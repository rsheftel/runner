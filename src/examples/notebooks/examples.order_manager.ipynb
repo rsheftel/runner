{
 "cells": [
  {
   "cell_type": "markdown",
   "metadata": {},
   "source": [
    "Order Manager\n",
    "============\n",
    "The OrderManager is the central object that maintains all Orders. Once the order is created and inserted into the OrderManager all other objects can access it."
   ]
  },
  {
   "cell_type": "code",
   "execution_count": 1,
   "metadata": {
    "collapsed": true
   },
   "source": [
    "import pandas as pd\n",
    "import puma as tw\n",
    "from tomahawk import order_manager"
   ],
   "outputs": []
  },
  {
   "cell_type": "code",
   "execution_count": 2,
   "metadata": {
    "collapsed": true
   },
   "source": [
    "# Initialize the OrderManaer\n",
    "\n",
    "oms = order_manager.OrderManager('test_unit', None)"
   ],
   "outputs": []
  },
  {
   "cell_type": "code",
   "execution_count": 3,
   "metadata": {
    "collapsed": false
   },
   "source": [
    "# Create a new order and insert it\n",
    "\n",
    "test_order = tw.Order('123-456', 'strat', '123-456', 'strat', 'stock', 'TEST', 's', 100, 'LIMIT', price=9.2)\n",
    "oms.new_order(test_order)"
   ],
   "outputs": []
  },
  {
   "cell_type": "code",
   "execution_count": 5,
   "metadata": {
    "collapsed": false
   },
   "source": [
    "# View the order in a DataFrame\n",
    "\n",
    "oms.open_orders_df().show()"
   ],
   "outputs": []
  },
  {
   "cell_type": "code",
   "execution_count": 6,
   "metadata": {
    "collapsed": false
   },
   "source": [
    "# get the CREATED orders as a list\n",
    "oms.orders_list({'state': 'CREATED'})"
   ],
   "outputs": []
  },
  {
   "cell_type": "code",
   "execution_count": 7,
   "metadata": {
    "collapsed": false
   },
   "source": [
    "# Fill the order\n",
    "test_order.add_fill(101, pd.Timestamp('2016-08-01 12:15:30', tz='America/New_York'), pd.Timestamp('2016-01-01 09:30:00', tz='America/New_York'), 100, 9.2, -1.0)\n",
    "oms.change_state(test_order, 'FILLED')\n",
    "oms.set_booked(test_order, False)\n",
    "print(oms.closed_orders_df())"
   ],
   "outputs": []
  },
  {
   "cell_type": "code",
   "execution_count": 8,
   "metadata": {
    "collapsed": false
   },
   "source": [
    "# get a list of orders that are FILLED but not booked yet\n",
    "\n",
    "oms.to_be_booked_list()"
   ],
   "outputs": []
  },
  {
   "cell_type": "code",
   "execution_count": 9,
   "metadata": {
    "collapsed": false
   },
   "source": [
    "# show the print of that order\n",
    "\n",
    "oms.to_be_booked_list()[0].print()"
   ],
   "outputs": []
  },
  {
   "cell_type": "code",
   "execution_count": null,
   "metadata": {
    "collapsed": true
   },
   "source": [],
   "outputs": []
  }
 ],
 "metadata": {
  "kernelspec": {
   "display_name": "Python 3",
   "language": "python",
   "name": "python3"
  },
  "language_info": {
   "codemirror_mode": {
    "name": "ipython",
    "version": 3
   },
   "file_extension": ".py",
   "mimetype": "text/x-python",
   "name": "python",
   "nbconvert_exporter": "python",
   "pygments_lexer": "ipython3",
   "version": "3.6.0"
  }
 },
 "nbformat": 4,
 "nbformat_minor": 0
}
