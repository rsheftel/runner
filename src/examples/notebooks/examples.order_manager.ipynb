{
 "cells": [
  {
   "cell_type": "markdown",
   "metadata": {},
   "source": [
    "Order Manager\n",
    "============\n",
    "The OrderManager is the central object that maintains all Orders. Once the order is created and inserted into the OrderManager all other objects can access it."
   ]
  },
  {
   "cell_type": "code",
   "execution_count": 1,
   "metadata": {
    "collapsed": true
   },
   "outputs": [],
   "source": [
    "import pandas as pd\n",
    "import puma as tw\n",
    "from tomahawk import order_manager"
   ]
  },
  {
   "cell_type": "code",
   "execution_count": 2,
   "metadata": {
    "collapsed": true
   },
   "outputs": [],
   "source": [
    "# Initialize the OrderManaer\n",
    "\n",
    "oms = order_manager.OrderManager('test_unit', None)"
   ]
  },
  {
   "cell_type": "code",
   "execution_count": 3,
   "metadata": {
    "collapsed": false
   },
   "outputs": [],
   "source": [
    "# Create a new order and insert it\n",
    "\n",
    "test_order = tw.Order('123-456', 'strat', '123-456', 'strat', 'stock', 'TEST', 's', 100, 'LIMIT', price=9.2)\n",
    "oms.new_order(test_order)"
   ]
  },
  {
   "cell_type": "code",
   "execution_count": 5,
   "metadata": {
    "collapsed": false
   },
   "outputs": [
    {
     "name": "stdout",
     "output_type": "stream",
     "text": [
      "  index  exchange_order_id    strategy_uuid    portfolio_id    create_timestamp                  fill_quantity      quantity  fill_price    closed    originator_id    Order__uuid                           strategy_id    product_type    event_type    symbol    broker_order_id    buy_sell    booked    details         commission    type    CREATED                           originator_uuid    state    portfolio_uuid\n",
      "-------  -------------------  ---------------  --------------  --------------------------------  ---------------  ----------  ------------  --------  ---------------  ------------------------------------  -------------  --------------  ------------  --------  -----------------  ----------  --------  --------------  ------------  ------  --------------------------------  -----------------  -------  ----------------\n",
      "      0                       123-456                          2017-05-02 12:51:23.873063+00:00                          100                False     strat            52ac4093-44d3-4cdf-841c-e712cb8348ce  strat          stock           ORDER         TEST                         sell                  {'price': 9.2}                LIMIT   2017-05-02 12:51:23.873063+00:00  123-456            CREATED\n"
     ]
    }
   ],
   "source": [
    "# View the order in a DataFrame\n",
    "\n",
    "oms.open_orders_df().show()"
   ]
  },
  {
   "cell_type": "code",
   "execution_count": 6,
   "metadata": {
    "collapsed": false
   },
   "outputs": [
    {
     "data": {
      "text/plain": [
       "[tomahawk.order.Order : UUID=52ac4093-44d3-4cdf-841c-e712cb8348ce]"
      ]
     },
     "execution_count": 6,
     "metadata": {},
     "output_type": "execute_result"
    }
   ],
   "source": [
    "# get the CREATED orders as a list\n",
    "oms.orders_list({'state': 'CREATED'})"
   ]
  },
  {
   "cell_type": "code",
   "execution_count": 7,
   "metadata": {
    "collapsed": false
   },
   "outputs": [
    {
     "name": "stdout",
     "output_type": "stream",
     "text": [
      "  index  exchange_order_id    strategy_uuid    portfolio_id    create_timestamp                    fill_quantity    quantity  FILLED                              fill_price  closed    originator_id    Order__uuid                           strategy_id    product_type    event_type    symbol    broker_order_id    buy_sell    booked    details           commission  type    CREATED                           originator_uuid    state    portfolio_uuid\n",
      "-------  -------------------  ---------------  --------------  --------------------------------  ---------------  ----------  --------------------------------  ------------  --------  ---------------  ------------------------------------  -------------  --------------  ------------  --------  -----------------  ----------  --------  --------------  ------------  ------  --------------------------------  -----------------  -------  ----------------\n",
      "      0                       123-456                          2017-05-02 12:51:23.873063+00:00              100         100  2017-05-02 12:51:33.785435+00:00           9.2  False     strat            52ac4093-44d3-4cdf-841c-e712cb8348ce  strat          stock           ORDER         TEST                         sell        False     {'price': 9.2}            -1  LIMIT   2017-05-02 12:51:23.873063+00:00  123-456            FILLED\n"
     ]
    }
   ],
   "source": [
    "# Fill the order\n",
    "test_order.add_fill(101, pd.Timestamp('2016-08-01 12:15:30', tz='America/New_York'), pd.Timestamp('2016-01-01 09:30:00', tz='America/New_York'), 100, 9.2, -1.0)\n",
    "oms.change_state(test_order, 'FILLED')\n",
    "oms.set_booked(test_order, False)\n",
    "print(oms.closed_orders_df())"
   ]
  },
  {
   "cell_type": "code",
   "execution_count": 8,
   "metadata": {
    "collapsed": false
   },
   "outputs": [
    {
     "data": {
      "text/plain": [
       "[tomahawk.order.Order : UUID=52ac4093-44d3-4cdf-841c-e712cb8348ce]"
      ]
     },
     "execution_count": 8,
     "metadata": {},
     "output_type": "execute_result"
    }
   ],
   "source": [
    "# get a list of orders that are FILLED but not booked yet\n",
    "\n",
    "oms.to_be_booked_list()"
   ]
  },
  {
   "cell_type": "code",
   "execution_count": 9,
   "metadata": {
    "collapsed": false
   },
   "outputs": [
    {
     "name": "stdout",
     "output_type": "stream",
     "text": [
      "uuid         : 52ac4093-44d3-4cdf-841c-e712cb8348ce\n",
      "state        : FILLED\n",
      "originator_id: strat\n",
      "strategy_id  : strat\n",
      "symbol       : TEST\n",
      "buy/sell     : sell\n",
      "quantity     : 100\n",
      "order_type   : LIMIT\n",
      "details      : {'price': 9.2}\n",
      "broker_id    : None\n",
      "exchange_id  : None\n",
      "fill_price   : 9.2\n",
      "fill_qty     : 100\n",
      "commission   : -1.0\n",
      "booked       : False\n",
      "closed       : False\n",
      "\n",
      "state history:\n",
      "  index  timestamp                         state\n",
      "-------  --------------------------------  -------\n",
      "      0  2017-05-02 12:51:23.873063+00:00  CREATED\n",
      "      1  2017-05-02 12:51:33.785435+00:00  FILLED\n",
      "\n",
      "replacements :\n",
      "  index    quantity  details\n",
      "-------  ----------  --------------\n",
      "      0         100  {'price': 9.2}\n",
      "\n",
      "fills        :\n",
      "  index  timestamp                  bartime                      quantity    price    commission  booked\n",
      "-------  -------------------------  -------------------------  ----------  -------  ------------  --------\n",
      "    101  2016-08-01 16:15:30+00:00  2016-01-01 14:30:00+00:00         100      9.2            -1  False\n"
     ]
    }
   ],
   "source": [
    "# show the print of that order\n",
    "\n",
    "oms.to_be_booked_list()[0].print()"
   ]
  },
  {
   "cell_type": "code",
   "execution_count": null,
   "metadata": {
    "collapsed": true
   },
   "outputs": [],
   "source": []
  }
 ],
 "metadata": {
  "kernelspec": {
   "display_name": "Python 3",
   "language": "python",
   "name": "python3"
  },
  "language_info": {
   "codemirror_mode": {
    "name": "ipython",
    "version": 3
   },
   "file_extension": ".py",
   "mimetype": "text/x-python",
   "name": "python",
   "nbconvert_exporter": "python",
   "pygments_lexer": "ipython3",
   "version": "3.6.0"
  }
 },
 "nbformat": 4,
 "nbformat_minor": 0
}
