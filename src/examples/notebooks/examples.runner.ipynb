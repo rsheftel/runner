{
 "cells": [
  {
   "cell_type": "markdown",
   "metadata": {},
   "source": [
    "Runner\n",
    "======\n",
    "The outermost object that controls the system running. It creates the required objects, loops through the bars and invokes the\n",
    "EventProcessor on each bar. This is the main object for simulation and live production running."
   ]
  },
  {
   "cell_type": "code",
   "execution_count": 32,
   "metadata": {
    "collapsed": true
   },
   "source": [
    "import pandas as pd\n",
    "import data as datalib\n",
    "from database import strategydb, tapdb\n",
    "import tomahawk.runner as runner\n",
    "import puma as tw\n",
    ""
   ],
   "outputs": []
  },
  {
   "cell_type": "code",
   "execution_count": 33,
   "metadata": {},
   "source": [
    "db_credentials = credentials('test', 'localhost', prefix='db_')\n",
    "prod_strategydb = strategydb.strategydb_engine(**credentials('test', 'localhost'))\n",
    "# initialize the Simulation Runner\n",
    "simrun = runner.SimRunner(**db_credentials)"
   ],
   "outputs": []
  },
  {
   "cell_type": "code",
   "execution_count": 34,
   "metadata": {},
   "source": [
    "# setup the market data\n",
    "simrun.setup_market_data(data_feed='CsvDataFeed', directory='c:/rmbaries/git/pifq/src/puma/data/tests/inst/csv_data_feed')"
   ],
   "outputs": []
  },
  {
   "cell_type": "code",
   "execution_count": 35,
   "metadata": {},
   "source": [
    "# access the objects that Runner creates for the Portfolio, Risk, OrderManager and PositionManager\n",
    "assert isinstance(simrun.risk, tw.Risk)\n",
    "assert isinstance(simrun.order_manager, tw.OrderManager)\n",
    "assert isinstance(simrun.position_manager, tw.PositionManager)"
   ],
   "outputs": []
  },
  {
   "cell_type": "code",
   "execution_count": 36,
   "metadata": {
    "collapsed": true
   },
   "source": [
    "# Add the Example Strategy using StrategyDB\n",
    "strategies = pd.DataFrame({'strategy_id': ['test.example'], 'portfolio_id': 'port_01'})\n",
    "details = strategydb.get_strategies(prod_strategydb)\n",
    "strategies = strategies.merge(details, left_on='strategy_id', right_on='strategy_name').drop('strategy_name',axis=1)\n",
    "\n",
    "simrun.add_strategies(strategies)"
   ],
   "outputs": []
  },
  {
   "cell_type": "code",
   "execution_count": 37,
   "metadata": {},
   "source": [
    "# add symbols\n",
    "symbols = pd.DataFrame({'strategy_id': ['test.example'] * 3, 'product_type': ['stock'] * 3,\n",
    "                        'symbol_name': ['AAPL', 'MSFT', 'test.sym.3'], 'frequency': ['1min'] * 3})\n",
    "print(symbols)\n",
    "simrun.add_symbols(symbols)"
   ],
   "outputs": []
  },
  {
   "cell_type": "code",
   "execution_count": 38,
   "metadata": {},
   "source": [
    "# run for a sequence of bars\n",
    "simrun.run([pd.Timestamp('2010-01-01 09:30:00', tz='America/New_York'), pd.Timestamp('2010-01-01 09:35:00', tz='America/New_York')])"
   ],
   "outputs": []
  },
  {
   "cell_type": "code",
   "execution_count": 39,
   "metadata": {},
   "source": [
    "# open order in the OMS, there are none\n",
    "print(simrun.order_manager.open_orders_df())"
   ],
   "outputs": []
  },
  {
   "cell_type": "code",
   "execution_count": 40,
   "metadata": {},
   "source": [
    "# closed orders in the OMS\n",
    "print(simrun.order_manager.closed_orders_df())"
   ],
   "outputs": []
  },
  {
   "cell_type": "code",
   "execution_count": 41,
   "metadata": {},
   "source": [
    "# Trade in PositionManager\n",
    "print(simrun.position_manager.positions_df)"
   ],
   "outputs": []
  },
  {
   "cell_type": "code",
   "execution_count": 44,
   "metadata": {},
   "source": [
    "# Show values persisted into database\n",
    "tapdb.get_orders_df(simrun.tapdb_engine, 'simulation', pd.Timestamp('2010-01-01 09:35:00', tz='America/New_York'))"
   ],
   "outputs": []
  },
  {
   "cell_type": "code",
   "execution_count": 45,
   "metadata": {},
   "source": [
    "tapdb.get_positions_df(simrun.tapdb_engine, 'simulation', pd.Timestamp('2010-01-01 09:35:00', tz='America/New_York'))"
   ],
   "outputs": []
  },
  {
   "cell_type": "code",
   "execution_count": null,
   "metadata": {
    "collapsed": true
   },
   "source": [],
   "outputs": []
  }
 ],
 "metadata": {
  "kernelspec": {
   "display_name": "Python 3",
   "language": "python",
   "name": "python3"
  },
  "language_info": {
   "codemirror_mode": {
    "name": "ipython",
    "version": 3
   },
   "file_extension": ".py",
   "mimetype": "text/x-python",
   "name": "python",
   "nbconvert_exporter": "python",
   "pygments_lexer": "ipython3",
   "version": "3.6.1"
  }
 },
 "nbformat": 4,
 "nbformat_minor": 1
}
