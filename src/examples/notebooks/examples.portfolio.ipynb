{
 "cells": [
  {
   "cell_type": "markdown",
   "metadata": {},
   "source": [
    "Portfolio\n",
    "=========\n",
    "The Portfolio object stands between the Strategy and the Risk. It is responsible for pulling the orders from the associated\n",
    "strategies and then passing the orders to the Risk. If the strategy is using Intents it will turn intents into orders and also\n",
    "does any internal crossing."
   ]
  },
  {
   "cell_type": "code",
   "execution_count": 1,
   "metadata": {
    "collapsed": true
   },
   "source": [
    "import data as datalib\n",
    "from collections import namedtuple\n",
    "from tomahawk.strategy import ExampleStrategy\n",
    "from tomahawk import portfolio, OrderManager, PositionManager\n",
    ""
   ],
   "outputs": []
  },
  {
   "cell_type": "code",
   "execution_count": 2,
   "metadata": {
    "collapsed": true
   },
   "source": [
    "# setup database credentials\n",
    "db_credentials = credentials('test', 'localhost', prefix='db_')"
   ],
   "outputs": []
  },
  {
   "cell_type": "code",
   "execution_count": 3,
   "metadata": {
    "collapsed": false
   },
   "source": [
    "# setup the market data\n",
    "csvdf = datalib.CsvDataFeed(\"c:/rmbaries/git/pifq/src/puma/data/tests/inst/csv_data_feed\", source_name='test_csv_data_feed')\n",
    "csvdh = datalib.HistoricalDataManager(csvdf, **db_credentials)\n",
    "csvdl = datalib.LiveDataManager(csvdf, **db_credentials)\n",
    "mdm = datalib.MarketDataManager(csvdh, csvdl)"
   ],
   "outputs": []
  },
  {
   "cell_type": "code",
   "execution_count": 5,
   "metadata": {
    "collapsed": false
   },
   "source": [
    "# initialize the Portfolio and OrderManager objects, then feed them to the Strategy object\n",
    "oms = OrderManager('test_unit', None)\n",
    "pm = PositionManager('test_unit', oms, None)\n",
    "port = portfolio.Portfolio('port_test', oms, pm)\n",
    "port.setup_market_data(live_frequency='1min', market_data_manager=mdm)\n",
    "obj_bridge = namedtuple('OB', 'order_manager, market_data_manager')(oms, mdm)\n",
    "strat = ExampleStrategy('TEST1', obj_bridge)"
   ],
   "outputs": []
  },
  {
   "cell_type": "code",
   "execution_count": 6,
   "metadata": {
    "collapsed": false
   },
   "source": [
    "# Attach the Strategy object binds to the Portfolio\n",
    "\n",
    "port.add_strategy(strat)\n",
    "print(port.strategy_ids)\n",
    "print(strat.portfolio)"
   ],
   "outputs": []
  },
  {
   "cell_type": "code",
   "execution_count": 7,
   "metadata": {
    "collapsed": true
   },
   "source": [
    "# insert symbols into strategy\n",
    "strat.add_symbols([('stock', 'test.sym.1', '1min'), ('stock', 'test.sym.2', '1D')])"
   ],
   "outputs": []
  },
  {
   "cell_type": "code",
   "execution_count": 8,
   "metadata": {
    "collapsed": false
   },
   "source": [
    "# create some orders and intents in the strategy\n",
    "\n",
    "strat.order('stock', 'test.sym.1', 'B', 100, 'LIMIT', 100.5)\n",
    "strat.order('stock', 'test.sym.2', 'S', 55, 'LIMIT', 5.5)\n",
    "strat.intent('stock', 'test.sym.1', -60)\n",
    "\n",
    "# see the orders in OMS, note that the intents are not turned into orders yet\n",
    "print(oms.open_orders_df())"
   ],
   "outputs": []
  },
  {
   "cell_type": "code",
   "execution_count": 9,
   "metadata": {
    "collapsed": false
   },
   "source": [
    "# setup the MarketDataManager\n",
    "mdm.bartime = '2010-01-01 09:31:00'\n",
    "mdm.update('stock', '1min')"
   ],
   "outputs": []
  },
  {
   "cell_type": "code",
   "execution_count": 10,
   "metadata": {
    "collapsed": false
   },
   "source": [
    "# Now process the orders with the Portfolio object\n",
    "port.process_orders()"
   ],
   "outputs": []
  },
  {
   "cell_type": "code",
   "execution_count": 11,
   "metadata": {
    "collapsed": false
   },
   "source": [
    "# now that the process_orders has been called the intent has been turned into an order\n",
    "print(oms.open_orders_df({'originator_uuid': port.uuid}))"
   ],
   "outputs": []
  },
  {
   "cell_type": "code",
   "execution_count": 12,
   "metadata": {
    "collapsed": false
   },
   "source": [
    "# see that there are no orders left in CREATED state\n",
    "oms.orders_list({'state': 'CREATED'})"
   ],
   "outputs": []
  },
  {
   "cell_type": "code",
   "execution_count": 13,
   "metadata": {
    "collapsed": false
   },
   "source": [
    "# they are now in STAGED state\n",
    "oms.orders_list({'state': 'STAGED'})"
   ],
   "outputs": []
  },
  {
   "cell_type": "code",
   "execution_count": 14,
   "metadata": {
    "collapsed": false
   },
   "source": [
    "# inspect the first order in the staged order list\n",
    "oms.orders_list()[0].print()"
   ],
   "outputs": []
  },
  {
   "cell_type": "code",
   "execution_count": null,
   "metadata": {
    "collapsed": true
   },
   "source": [],
   "outputs": []
  }
 ],
 "metadata": {
  "kernelspec": {
   "display_name": "Python 3",
   "language": "python",
   "name": "python3"
  },
  "language_info": {
   "codemirror_mode": {
    "name": "ipython",
    "version": 3
   },
   "file_extension": ".py",
   "mimetype": "text/x-python",
   "name": "python",
   "nbconvert_exporter": "python",
   "pygments_lexer": "ipython3",
   "version": "3.6.0"
  }
 },
 "nbformat": 4,
 "nbformat_minor": 0
}
