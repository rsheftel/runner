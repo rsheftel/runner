{
 "cells": [
  {
   "cell_type": "markdown",
   "metadata": {},
   "source": [
    "Portfolio\n",
    "=========\n",
    "The Portfolio object stands between the Strategy and the Risk. It is responsible for pulling the orders from the associated\n",
    "strategies and then passing the orders to the Risk. If the strategy is using Intents it will turn intents into orders and also\n",
    "does any internal crossing."
   ]
  },
  {
   "cell_type": "code",
   "execution_count": 1,
   "metadata": {
    "collapsed": true
   },
   "outputs": [],
   "source": [
    "import data as datalib\n",
    "from collections import namedtuple\n",
    "from tomahawk.strategy import ExampleStrategy\n",
    "from tomahawk import portfolio, OrderManager, PositionManager\n",
    ""
   ]
  },
  {
   "cell_type": "code",
   "execution_count": 2,
   "metadata": {
    "collapsed": true
   },
   "outputs": [],
   "source": [
    "# setup database credentials\n",
    "db_credentials = credentials('test', 'localhost', prefix='db_')"
   ]
  },
  {
   "cell_type": "code",
   "execution_count": 3,
   "metadata": {
    "collapsed": false
   },
   "outputs": [],
   "source": [
    "# setup the market data\n",
    "csvdf = datalib.CsvDataFeed(\"c:/rmbaries/git/pifq/src/puma/data/tests/inst/csv_data_feed\", source_name='test_csv_data_feed')\n",
    "csvdh = datalib.HistoricalDataManager(csvdf, **db_credentials)\n",
    "csvdl = datalib.LiveDataManager(csvdf, **db_credentials)\n",
    "mdm = datalib.MarketDataManager(csvdh, csvdl)"
   ]
  },
  {
   "cell_type": "code",
   "execution_count": 5,
   "metadata": {
    "collapsed": false
   },
   "outputs": [],
   "source": [
    "# initialize the Portfolio and OrderManager objects, then feed them to the Strategy object\n",
    "oms = OrderManager('test_unit', None)\n",
    "pm = PositionManager('test_unit', oms, None)\n",
    "port = portfolio.Portfolio('port_test', oms, pm)\n",
    "port.setup_market_data(live_frequency='1min', market_data_manager=mdm)\n",
    "obj_bridge = namedtuple('OB', 'order_manager, market_data_manager')(oms, mdm)\n",
    "strat = ExampleStrategy('TEST1', obj_bridge)"
   ]
  },
  {
   "cell_type": "code",
   "execution_count": 6,
   "metadata": {
    "collapsed": false
   },
   "outputs": [
    {
     "name": "stdout",
     "output_type": "stream",
     "text": [
      "['TEST1']\n",
      "<tomahawk.portfolio.Portfolio object at 0x000002038E985940>\n"
     ]
    }
   ],
   "source": [
    "# Attach the Strategy object binds to the Portfolio\n",
    "\n",
    "port.add_strategy(strat)\n",
    "print(port.strategy_ids)\n",
    "print(strat.portfolio)"
   ]
  },
  {
   "cell_type": "code",
   "execution_count": 7,
   "metadata": {
    "collapsed": true
   },
   "outputs": [],
   "source": [
    "# insert symbols into strategy\n",
    "strat.add_symbols([('stock', 'test.sym.1', '1min'), ('stock', 'test.sym.2', '1D')])"
   ]
  },
  {
   "cell_type": "code",
   "execution_count": 8,
   "metadata": {
    "collapsed": false
   },
   "outputs": [
    {
     "name": "stdout",
     "output_type": "stream",
     "text": [
      "  index  fill_quantity    Order__uuid                           create_timestamp                    quantity  fill_price    exchange_order_id    broker_order_id    symbol      buy_sell    originator_uuid                       originator_id    commission    strategy_uuid                         product_type    booked    portfolio_id    CREATED                           state    closed    type    details           portfolio_uuid    event_type    strategy_id\n",
      "-------  ---------------  ------------------------------------  --------------------------------  ----------  ------------  -------------------  -----------------  ----------  ----------  ------------------------------------  ---------------  ------------  ------------------------------------  --------------  --------  --------------  --------------------------------  -------  --------  ------  ----------------  ----------------  ------------  -------------\n",
      "      0                   b81808d1-527e-4b45-a617-38b1c8eecdc6  2017-03-24 04:33:49.834074+00:00         100                                                        test.sym.1  buy         cfdd26ef-45d8-40ca-85bc-e624b2f0aa6c  strategy.TEST1                 cfdd26ef-45d8-40ca-85bc-e624b2f0aa6c  stock                                     2017-03-24 04:33:49.834074+00:00  CREATED  False     LIMIT   {'price': 100.5}                    ORDER         TEST1\n",
      "      1                   7e12d1d1-a4df-407d-b50a-7d569cf29cad  2017-03-24 04:33:49.849664+00:00          55                                                        test.sym.2  sell        cfdd26ef-45d8-40ca-85bc-e624b2f0aa6c  strategy.TEST1                 cfdd26ef-45d8-40ca-85bc-e624b2f0aa6c  stock                                     2017-03-24 04:33:49.849664+00:00  CREATED  False     LIMIT   {'price': 5.5}                      ORDER         TEST1\n"
     ]
    }
   ],
   "source": [
    "# create some orders and intents in the strategy\n",
    "\n",
    "strat.order('stock', 'test.sym.1', 'B', 100, 'LIMIT', 100.5)\n",
    "strat.order('stock', 'test.sym.2', 'S', 55, 'LIMIT', 5.5)\n",
    "strat.intent('stock', 'test.sym.1', -60)\n",
    "\n",
    "# see the orders in OMS, note that the intents are not turned into orders yet\n",
    "print(oms.open_orders_df())"
   ]
  },
  {
   "cell_type": "code",
   "execution_count": 9,
   "metadata": {
    "collapsed": false
   },
   "outputs": [],
   "source": [
    "# setup the MarketDataManager\n",
    "mdm.bartime = '2010-01-01 09:31:00'\n",
    "mdm.update('stock', '1min')"
   ]
  },
  {
   "cell_type": "code",
   "execution_count": 10,
   "metadata": {
    "collapsed": false
   },
   "outputs": [],
   "source": [
    "# Now process the orders with the Portfolio object\n",
    "port.process_orders()"
   ]
  },
  {
   "cell_type": "code",
   "execution_count": 11,
   "metadata": {
    "collapsed": false
   },
   "outputs": [
    {
     "name": "stdout",
     "output_type": "stream",
     "text": [
      "  index  fill_quantity    Order__uuid                           create_timestamp                    quantity  fill_price    exchange_order_id    broker_order_id    symbol      buy_sell    originator_uuid                       originator_id        commission    strategy_uuid                         product_type    booked    portfolio_id    CREATED                           state    closed    type    STAGED                            details            portfolio_uuid                        event_type    strategy_id\n",
      "-------  ---------------  ------------------------------------  --------------------------------  ----------  ------------  -------------------  -----------------  ----------  ----------  ------------------------------------  -------------------  ------------  ------------------------------------  --------------  --------  --------------  --------------------------------  -------  --------  ------  --------------------------------  -----------------  ------------------------------------  ------------  -------------\n",
      "      0                   5d42e617-6a55-49b8-b1a6-704a2f9fccda  2017-03-24 04:33:56.271594+00:00          60                                                        test.sym.1  sell        c65fcd4f-c84a-4406-b33f-2b33ef2f513a  portfolio.port_test                cfdd26ef-45d8-40ca-85bc-e624b2f0aa6c  stock                     port_test       2017-03-24 04:33:56.271594+00:00  STAGED   False     LIMIT   2017-03-24 04:33:56.271594+00:00  {'price': 100.25}  c65fcd4f-c84a-4406-b33f-2b33ef2f513a  ORDER         TEST1\n"
     ]
    }
   ],
   "source": [
    "# now that the process_orders has been called the intent has been turned into an order\n",
    "print(oms.open_orders_df({'originator_uuid': port.uuid}))"
   ]
  },
  {
   "cell_type": "code",
   "execution_count": 12,
   "metadata": {
    "collapsed": false
   },
   "outputs": [
    {
     "data": {
      "text/plain": [
       "[]"
      ]
     },
     "execution_count": 12,
     "metadata": {},
     "output_type": "execute_result"
    }
   ],
   "source": [
    "# see that there are no orders left in CREATED state\n",
    "oms.orders_list({'state': 'CREATED'})"
   ]
  },
  {
   "cell_type": "code",
   "execution_count": 13,
   "metadata": {
    "collapsed": false
   },
   "outputs": [
    {
     "data": {
      "text/plain": [
       "[tomahawk.order.Order : UUID=b81808d1-527e-4b45-a617-38b1c8eecdc6,\n",
       " tomahawk.order.Order : UUID=7e12d1d1-a4df-407d-b50a-7d569cf29cad,\n",
       " tomahawk.order.Order : UUID=5d42e617-6a55-49b8-b1a6-704a2f9fccda]"
      ]
     },
     "execution_count": 13,
     "metadata": {},
     "output_type": "execute_result"
    }
   ],
   "source": [
    "# they are now in STAGED state\n",
    "oms.orders_list({'state': 'STAGED'})"
   ]
  },
  {
   "cell_type": "code",
   "execution_count": 14,
   "metadata": {
    "collapsed": false
   },
   "outputs": [
    {
     "name": "stdout",
     "output_type": "stream",
     "text": [
      "uuid         : b81808d1-527e-4b45-a617-38b1c8eecdc6\n",
      "state        : STAGED\n",
      "originator_id: strategy.TEST1\n",
      "strategy_id  : TEST1\n",
      "symbol       : test.sym.1\n",
      "buy/sell     : buy\n",
      "quantity     : 100\n",
      "order_type   : LIMIT\n",
      "details      : {'price': 100.5}\n",
      "broker_id    : None\n",
      "exchange_id  : None\n",
      "fill_price   : None\n",
      "fill_qty     : None\n",
      "commission   : None\n",
      "booked       : None\n",
      "closed       : False\n",
      "\n",
      "state history:\n",
      "  index  timestamp                         state\n",
      "-------  --------------------------------  -------\n",
      "      0  2017-03-24 04:33:49.834074+00:00  CREATED\n",
      "      1  2017-03-24 04:33:56.271594+00:00  STAGED\n",
      "\n",
      "replacements :\n",
      "  index    quantity  details\n",
      "-------  ----------  ----------------\n",
      "      0         100  {'price': 100.5}\n",
      "\n",
      "fills        :\n",
      "index    timestamp    bartime    quantity    price    commission    booked\n",
      "-------  -----------  ---------  ----------  -------  ------------  --------\n"
     ]
    }
   ],
   "source": [
    "# inspect the first order in the staged order list\n",
    "oms.orders_list()[0].print()"
   ]
  },
  {
   "cell_type": "code",
   "execution_count": null,
   "metadata": {
    "collapsed": true
   },
   "outputs": [],
   "source": []
  }
 ],
 "metadata": {
  "kernelspec": {
   "display_name": "Python 3",
   "language": "python",
   "name": "python3"
  },
  "language_info": {
   "codemirror_mode": {
    "name": "ipython",
    "version": 3
   },
   "file_extension": ".py",
   "mimetype": "text/x-python",
   "name": "python",
   "nbconvert_exporter": "python",
   "pygments_lexer": "ipython3",
   "version": "3.6.0"
  }
 },
 "nbformat": 4,
 "nbformat_minor": 0
}
