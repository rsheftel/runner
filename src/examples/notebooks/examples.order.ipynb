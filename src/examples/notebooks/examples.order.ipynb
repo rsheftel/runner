{
 "cells": [
  {
   "cell_type": "markdown",
   "metadata": {},
   "source": [
    "Order Class\n",
    "========="
   ]
  },
  {
   "cell_type": "code",
   "execution_count": 1,
   "metadata": {
    "collapsed": false
   },
   "outputs": [],
   "source": [
    "# import the order module\n",
    "import pandas as pd\n",
    "import tomahawk.order as order"
   ]
  },
  {
   "cell_type": "code",
   "execution_count": 2,
   "metadata": {
    "collapsed": false
   },
   "outputs": [],
   "source": [
    "# create a buy order for 100 shares of TEST at limit price of 50.0 for strategy_id test_strat\n",
    "\n",
    "ord = order.Order(originator_uuid='123-456', originator_id='orig_id', strategy_uuid='123-456', strategy_id='test_strat', product_type='stock', symbol='TEST', buy_sell='buy', \n",
    "                  quantity=100, order_type='LIMIT', price=50.0)"
   ]
  },
  {
   "cell_type": "code",
   "execution_count": 3,
   "metadata": {
    "collapsed": false
   },
   "outputs": [
    {
     "name": "stdout",
     "output_type": "stream",
     "text": [
      "b0c40968-b6d5-4700-85e0-228318e31626\n",
      "2017-05-02 12:50:51.430103+00:00\n"
     ]
    }
   ],
   "source": [
    "# every order object is assigned a unique UUID and timestamp of creation\n",
    "\n",
    "print(ord.uuid)\n",
    "print(ord.create_timestamp)"
   ]
  },
  {
   "cell_type": "code",
   "execution_count": 4,
   "metadata": {
    "collapsed": false
   },
   "outputs": [
    {
     "name": "stdout",
     "output_type": "stream",
     "text": [
      "TEST\n",
      "buy\n",
      "LIMIT\n"
     ]
    }
   ],
   "source": [
    "# we can see all the properties of the order. All orders have standard properties\n",
    "\n",
    "print(ord.symbol)\n",
    "print(ord.buy_sell)\n",
    "print(ord.type)"
   ]
  },
  {
   "cell_type": "code",
   "execution_count": 5,
   "metadata": {
    "collapsed": false
   },
   "outputs": [
    {
     "name": "stdout",
     "output_type": "stream",
     "text": [
      "{'price': 50.0}\n"
     ]
    }
   ],
   "source": [
    "# based on the order type there will additional properties\n",
    "\n",
    "print(ord.details)"
   ]
  },
  {
   "cell_type": "markdown",
   "metadata": {},
   "source": [
    "State\n",
    "------\n",
    "Orders have a state at every point in time. That state can and will change as the order gets processed"
   ]
  },
  {
   "cell_type": "code",
   "execution_count": 6,
   "metadata": {
    "collapsed": false
   },
   "outputs": [
    {
     "data": {
      "text/plain": [
       "['CREATED',\n",
       " 'STAGED',\n",
       " 'RISK_ACCEPTED',\n",
       " 'SENT',\n",
       " 'LIVE',\n",
       " 'CANCEL_REQUESTED',\n",
       " 'CANCEL_SENT',\n",
       " 'REPLACE_REQUESTED',\n",
       " 'REPLACE_REJECTED',\n",
       " 'REPLACE_SENT',\n",
       " 'PARTIALLY_FILLED',\n",
       " 'RISK_REJECTED',\n",
       " 'REJECTED',\n",
       " 'FILLED',\n",
       " 'CANCELED']"
      ]
     },
     "execution_count": 6,
     "metadata": {},
     "output_type": "execute_result"
    }
   ],
   "source": [
    "# list of all allowable states\n",
    "\n",
    "order.allowable_states()"
   ]
  },
  {
   "cell_type": "code",
   "execution_count": 7,
   "metadata": {
    "collapsed": false
   },
   "outputs": [
    {
     "data": {
      "text/plain": [
       "{'closed': ['RISK_REJECTED', 'REJECTED', 'FILLED', 'CANCELED'],\n",
       " 'open': ['CREATED',\n",
       "  'STAGED',\n",
       "  'RISK_ACCEPTED',\n",
       "  'SENT',\n",
       "  'LIVE',\n",
       "  'CANCEL_REQUESTED',\n",
       "  'CANCEL_SENT',\n",
       "  'REPLACE_REQUESTED',\n",
       "  'REPLACE_REJECTED',\n",
       "  'REPLACE_SENT',\n",
       "  'PARTIALLY_FILLED']}"
      ]
     },
     "execution_count": 7,
     "metadata": {},
     "output_type": "execute_result"
    }
   ],
   "source": [
    "# organized into LIVE or CLOSED`\n",
    "\n",
    "order.states()"
   ]
  },
  {
   "cell_type": "code",
   "execution_count": 8,
   "metadata": {
    "collapsed": false
   },
   "outputs": [
    {
     "data": {
      "text/plain": [
       "{'CANCELED': 'closed',\n",
       " 'CANCEL_REQUESTED': 'open',\n",
       " 'CANCEL_SENT': 'open',\n",
       " 'CREATED': 'open',\n",
       " 'FILLED': 'closed',\n",
       " 'LIVE': 'open',\n",
       " 'PARTIALLY_FILLED': 'open',\n",
       " 'REJECTED': 'closed',\n",
       " 'REPLACE_REJECTED': 'open',\n",
       " 'REPLACE_REQUESTED': 'open',\n",
       " 'REPLACE_SENT': 'open',\n",
       " 'RISK_ACCEPTED': 'open',\n",
       " 'RISK_REJECTED': 'closed',\n",
       " 'SENT': 'open',\n",
       " 'STAGED': 'open'}"
      ]
     },
     "execution_count": 8,
     "metadata": {},
     "output_type": "execute_result"
    }
   ],
   "source": [
    "# as a group\n",
    "\n",
    "order.state_group()"
   ]
  },
  {
   "cell_type": "code",
   "execution_count": 9,
   "metadata": {
    "collapsed": false
   },
   "outputs": [
    {
     "name": "stdout",
     "output_type": "stream",
     "text": [
      "STAGED\n"
     ]
    }
   ],
   "source": [
    "# change the order state by assigning the .state property\n",
    "\n",
    "ord.state = 'STAGED'\n",
    "print(ord.state)"
   ]
  },
  {
   "cell_type": "code",
   "execution_count": 10,
   "metadata": {
    "collapsed": true
   },
   "outputs": [],
   "source": [
    "# run it through some more states\n",
    "\n",
    "ord.state = 'SENT'\n",
    "ord.state = 'LIVE'"
   ]
  },
  {
   "cell_type": "code",
   "execution_count": 11,
   "metadata": {
    "collapsed": false
   },
   "outputs": [
    {
     "name": "stdout",
     "output_type": "stream",
     "text": [
      "  index  timestamp                         state\n",
      "-------  --------------------------------  -------\n",
      "      0  2017-05-02 12:50:51.430103+00:00  CREATED\n",
      "      1  2017-05-02 12:50:51.646268+00:00  STAGED\n",
      "      2  2017-05-02 12:50:51.677519+00:00  SENT\n",
      "      3  2017-05-02 12:50:51.677519+00:00  LIVE\n"
     ]
    }
   ],
   "source": [
    "# to see the history of state changes\n",
    "\n",
    "print(ord.state_df)"
   ]
  },
  {
   "cell_type": "markdown",
   "metadata": {},
   "source": [
    "Broker & Exchange Information\n",
    "-----"
   ]
  },
  {
   "cell_type": "code",
   "execution_count": 12,
   "metadata": {
    "collapsed": false
   },
   "outputs": [],
   "source": [
    "# when the order is processed by the broker and ultimately the exchange those objects will add order and fill information\n",
    "\n",
    "ord.broker_order_id = '123'\n",
    "ord.exchange_order_id = 'A99'\n",
    "ord.add_fill('001', pd.Timestamp('2016-08-01 12:30:15', tz='America/New_York'), pd.Timestamp('2016-01-01 09:30:00', tz='America/New_York'), 75, 49.9, -0.75)"
   ]
  },
  {
   "cell_type": "code",
   "execution_count": 13,
   "metadata": {
    "collapsed": false
   },
   "outputs": [
    {
     "name": "stdout",
     "output_type": "stream",
     "text": [
      "  index  timestamp                  bartime                      quantity    price    commission  booked\n",
      "-------  -------------------------  -------------------------  ----------  -------  ------------  --------\n",
      "    001  2016-08-01 16:30:15+00:00  2016-01-01 14:30:00+00:00          75     49.9         -0.75  False\n"
     ]
    }
   ],
   "source": [
    "# See the fills\n",
    "print(ord.fills)"
   ]
  },
  {
   "cell_type": "markdown",
   "metadata": {},
   "source": [
    "Representation and Info Display\n",
    "----"
   ]
  },
  {
   "cell_type": "code",
   "execution_count": 14,
   "metadata": {
    "collapsed": false
   },
   "outputs": [
    {
     "data": {
      "text/plain": [
       "tomahawk.order.Order : UUID=b0c40968-b6d5-4700-85e0-228318e31626"
      ]
     },
     "execution_count": 14,
     "metadata": {},
     "output_type": "execute_result"
    }
   ],
   "source": [
    "# representation\n",
    "\n",
    "ord"
   ]
  },
  {
   "cell_type": "code",
   "execution_count": 16,
   "metadata": {
    "collapsed": false
   },
   "outputs": [
    {
     "name": "stdout",
     "output_type": "stream",
     "text": [
      "uuid         : b0c40968-b6d5-4700-85e0-228318e31626\n",
      "state        : LIVE\n",
      "originator_id: orig_id\n",
      "strategy_id  : test_strat\n",
      "symbol       : TEST\n",
      "buy/sell     : buy\n",
      "quantity     : 100\n",
      "order_type   : LIMIT\n",
      "details      : {'price': 50.0}\n",
      "broker_id    : 123\n",
      "exchange_id  : A99\n",
      "fill_price   : 49.9\n",
      "fill_qty     : 75\n",
      "commission   : -0.75\n",
      "booked       : None\n",
      "closed       : False\n",
      "\n",
      "state history:\n",
      "  index  timestamp                         state\n",
      "-------  --------------------------------  -------\n",
      "      0  2017-05-02 12:50:51.430103+00:00  CREATED\n",
      "      1  2017-05-02 12:50:51.646268+00:00  STAGED\n",
      "      2  2017-05-02 12:50:51.677519+00:00  SENT\n",
      "      3  2017-05-02 12:50:51.677519+00:00  LIVE\n",
      "\n",
      "replacements :\n",
      "  index    quantity  details\n",
      "-------  ----------  ---------------\n",
      "      0         100  {'price': 50.0}\n",
      "\n",
      "fills        :\n",
      "  index  timestamp                  bartime                      quantity    price    commission  booked\n",
      "-------  -------------------------  -------------------------  ----------  -------  ------------  --------\n",
      "    001  2016-08-01 16:30:15+00:00  2016-01-01 14:30:00+00:00          75     49.9         -0.75  False\n"
     ]
    }
   ],
   "source": [
    "ord.print()"
   ]
  },
  {
   "cell_type": "code",
   "execution_count": 17,
   "metadata": {
    "collapsed": false
   },
   "outputs": [
    {
     "data": {
      "text/plain": [
       "{'CREATED': Timestamp('2017-05-02 12:50:51.430103+0000', tz='UTC'),\n",
       " 'LIVE': Timestamp('2017-05-02 12:50:51.677519+0000', tz='UTC'),\n",
       " 'Order__uuid': 'b0c40968-b6d5-4700-85e0-228318e31626',\n",
       " 'SENT': Timestamp('2017-05-02 12:50:51.677519+0000', tz='UTC'),\n",
       " 'STAGED': Timestamp('2017-05-02 12:50:51.646268+0000', tz='UTC'),\n",
       " 'booked': None,\n",
       " 'broker_order_id': '123',\n",
       " 'buy_sell': 'buy',\n",
       " 'closed': False,\n",
       " 'commission': -0.75,\n",
       " 'create_timestamp': Timestamp('2017-05-02 12:50:51.430103+0000', tz='UTC'),\n",
       " 'details': {'price': 50.0},\n",
       " 'event_type': 'ORDER',\n",
       " 'exchange_order_id': 'A99',\n",
       " 'fill_price': 49.9,\n",
       " 'fill_quantity': 75,\n",
       " 'originator_id': 'orig_id',\n",
       " 'originator_uuid': '123-456',\n",
       " 'portfolio_id': None,\n",
       " 'portfolio_uuid': None,\n",
       " 'product_type': 'stock',\n",
       " 'quantity': 100,\n",
       " 'state': 'LIVE',\n",
       " 'strategy_id': 'test_strat',\n",
       " 'strategy_uuid': '123-456',\n",
       " 'symbol': 'TEST',\n",
       " 'type': 'LIMIT'}"
      ]
     },
     "execution_count": 17,
     "metadata": {},
     "output_type": "execute_result"
    }
   ],
   "source": [
    "# as a dict for use in another process\n",
    "ord.to_dict()"
   ]
  },
  {
   "cell_type": "code",
   "execution_count": null,
   "metadata": {
    "collapsed": true
   },
   "outputs": [],
   "source": []
  }
 ],
 "metadata": {
  "kernelspec": {
   "display_name": "Python 3",
   "language": "python",
   "name": "python3"
  },
  "language_info": {
   "codemirror_mode": {
    "name": "ipython",
    "version": 3
   },
   "file_extension": ".py",
   "mimetype": "text/x-python",
   "name": "python",
   "nbconvert_exporter": "python",
   "pygments_lexer": "ipython3",
   "version": "3.6.0"
  }
 },
 "nbformat": 4,
 "nbformat_minor": 0
}
