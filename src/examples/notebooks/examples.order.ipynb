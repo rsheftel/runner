{
 "cells": [
  {
   "cell_type": "markdown",
   "metadata": {},
   "source": [
    "Order Class\n",
    "========="
   ]
  },
  {
   "cell_type": "code",
   "execution_count": 1,
   "metadata": {
    "collapsed": false
   },
   "source": [
    "# import the order module\n",
    "import pandas as pd\n",
    "from puma import order"
   ],
   "outputs": []
  },
  {
   "cell_type": "code",
   "execution_count": 2,
   "metadata": {
    "collapsed": false
   },
   "source": [
    "# create a buy order for 100 shares of TEST at limit price of 50.0 for strategy_id test_strat\n",
    "\n",
    "ord = order.Order(originator_uuid='123-456', originator_id='orig_id', strategy_uuid='123-456', strategy_id='test_strat', product_type='stock', symbol='TEST', buy_sell='buy', \n",
    "                  quantity=100, order_type='LIMIT', price=50.0)"
   ],
   "outputs": []
  },
  {
   "cell_type": "code",
   "execution_count": 3,
   "metadata": {
    "collapsed": false
   },
   "source": [
    "# every order object is assigned a unique UUID and timestamp of creation\n",
    "\n",
    "print(ord.uuid)\n",
    "print(ord.create_timestamp)"
   ],
   "outputs": []
  },
  {
   "cell_type": "code",
   "execution_count": 4,
   "metadata": {
    "collapsed": false
   },
   "source": [
    "# we can see all the properties of the order. All orders have standard properties\n",
    "\n",
    "print(ord.symbol)\n",
    "print(ord.buy_sell)\n",
    "print(ord.type)"
   ],
   "outputs": []
  },
  {
   "cell_type": "code",
   "execution_count": 5,
   "metadata": {
    "collapsed": false
   },
   "source": [
    "# based on the order type there will additional properties\n",
    "\n",
    "print(ord.details)"
   ],
   "outputs": []
  },
  {
   "cell_type": "markdown",
   "metadata": {},
   "source": [
    "State\n",
    "------\n",
    "Orders have a state at every point in time. That state can and will change as the order gets processed"
   ]
  },
  {
   "cell_type": "code",
   "execution_count": 6,
   "metadata": {
    "collapsed": false
   },
   "source": [
    "# list of all allowable states\n",
    "\n",
    "order.allowable_states()"
   ],
   "outputs": []
  },
  {
   "cell_type": "code",
   "execution_count": 7,
   "metadata": {
    "collapsed": false
   },
   "source": [
    "# organized into LIVE or CLOSED`\n",
    "\n",
    "order.states()"
   ],
   "outputs": []
  },
  {
   "cell_type": "code",
   "execution_count": 8,
   "metadata": {
    "collapsed": false
   },
   "source": [
    "# as a group\n",
    "\n",
    "order.state_group()"
   ],
   "outputs": []
  },
  {
   "cell_type": "code",
   "execution_count": 9,
   "metadata": {
    "collapsed": false
   },
   "source": [
    "# change the order state by assigning the .state property\n",
    "\n",
    "ord.state = 'STAGED'\n",
    "print(ord.state)"
   ],
   "outputs": []
  },
  {
   "cell_type": "code",
   "execution_count": 10,
   "metadata": {
    "collapsed": true
   },
   "source": [
    "# run it through some more states\n",
    "\n",
    "ord.state = 'SENT'\n",
    "ord.state = 'LIVE'"
   ],
   "outputs": []
  },
  {
   "cell_type": "code",
   "execution_count": 11,
   "metadata": {
    "collapsed": false
   },
   "source": [
    "# to see the history of state changes\n",
    "\n",
    "print(ord.state_df)"
   ],
   "outputs": []
  },
  {
   "cell_type": "markdown",
   "metadata": {},
   "source": [
    "Broker & Exchange Information\n",
    "-----"
   ]
  },
  {
   "cell_type": "code",
   "execution_count": 12,
   "metadata": {
    "collapsed": false
   },
   "source": [
    "# when the order is processed by the broker and ultimately the exchange those objects will add order and fill information\n",
    "\n",
    "ord.broker_order_id = '123'\n",
    "ord.exchange_order_id = 'A99'\n",
    "ord.add_fill('001', pd.Timestamp('2016-08-01 12:30:15', tz='America/New_York'), pd.Timestamp('2016-01-01 09:30:00', tz='America/New_York'), 75, 49.9, -0.75)"
   ],
   "outputs": []
  },
  {
   "cell_type": "code",
   "execution_count": 13,
   "metadata": {
    "collapsed": false
   },
   "source": [
    "# See the fills\n",
    "print(ord.fills)"
   ],
   "outputs": []
  },
  {
   "cell_type": "markdown",
   "metadata": {},
   "source": [
    "Representation and Info Display\n",
    "----"
   ]
  },
  {
   "cell_type": "code",
   "execution_count": 14,
   "metadata": {
    "collapsed": false
   },
   "source": [
    "# representation\n",
    "\n",
    "ord"
   ],
   "outputs": []
  },
  {
   "cell_type": "code",
   "execution_count": 16,
   "metadata": {
    "collapsed": false
   },
   "source": [
    "ord.print()"
   ],
   "outputs": []
  },
  {
   "cell_type": "code",
   "execution_count": 17,
   "metadata": {
    "collapsed": false
   },
   "source": [
    "# as a dict for use in another process\n",
    "ord.to_dict()"
   ],
   "outputs": []
  },
  {
   "cell_type": "code",
   "execution_count": null,
   "metadata": {
    "collapsed": true
   },
   "source": [],
   "outputs": []
  }
 ],
 "metadata": {
  "kernelspec": {
   "display_name": "Python 3",
   "language": "python",
   "name": "python3"
  },
  "language_info": {
   "codemirror_mode": {
    "name": "ipython",
    "version": 3
   },
   "file_extension": ".py",
   "mimetype": "text/x-python",
   "name": "python",
   "nbconvert_exporter": "python",
   "pygments_lexer": "ipython3",
   "version": "3.6.0"
  }
 },
 "nbformat": 4,
 "nbformat_minor": 0
}
