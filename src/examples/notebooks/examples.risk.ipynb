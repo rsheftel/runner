{
 "cells": [
  {
   "cell_type": "markdown",
   "metadata": {},
   "source": [
    "Risk\n",
    "===="
   ]
  },
  {
   "cell_type": "code",
   "execution_count": 1,
   "metadata": {
    "collapsed": true
   },
   "outputs": [],
   "source": [
    "from collections import namedtuple\n",
    "import data as datalib\n",
    "import puma as tw\n",
    "\n",
    "from tomahawk import risk"
   ]
  },
  {
   "cell_type": "code",
   "execution_count": 2,
   "metadata": {
    "collapsed": false
   },
   "outputs": [],
   "source": [
    "# setup the market data\n",
    "db_credentials = credentials('test', 'localhost', prefix='db_')\n",
    "csvdf = datalib.CsvDataFeed(\"c:/rmbaries/git/pifq/src/puma/data/tests/inst/csv_data_feed\", source_name='test_csv_data_feed')\n",
    "csvdh = datalib.HistoricalDataManager(csvdf, **db_credentials)\n",
    "csvdl = datalib.LiveDataManager(csvdf, **db_credentials)\n",
    "mdm = datalib.MarketDataManager(csvdh, csvdl)"
   ]
  },
  {
   "cell_type": "code",
   "execution_count": 3,
   "metadata": {
    "collapsed": false
   },
   "outputs": [],
   "source": [
    "# setup the Strategy, Portfolio and PositionManager\n",
    "oms = tw.OrderManager('test_unit', None)\n",
    "pm = tw.PositionManager('test_unit', oms, None)\n",
    "port = tw.Portfolio('port_test', oms, pm)\n",
    "obj_bridge = namedtuple('OB', 'order_manager, portfolio, market_data_manager')(oms, port, mdm)\n",
    "strat = tw.strategy.ExampleStrategy('TEST1', obj_bridge)\n",
    "port.add_strategy(strat)"
   ]
  },
  {
   "cell_type": "code",
   "execution_count": 4,
   "metadata": {
    "collapsed": false
   },
   "outputs": [],
   "source": [
    "# initialize Risk\n",
    "\n",
    "rk = risk.Risk(oms)"
   ]
  },
  {
   "cell_type": "code",
   "execution_count": 5,
   "metadata": {
    "collapsed": false
   },
   "outputs": [],
   "source": [
    "# insert symbols into strategy\n",
    "strat.add_symbols([('stock', 'test.sym.1', '1min'), ('stock', 'test.sym.2', '1min')])"
   ]
  },
  {
   "cell_type": "code",
   "execution_count": 6,
   "metadata": {
    "collapsed": false
   },
   "outputs": [
    {
     "name": "stdout",
     "output_type": "stream",
     "text": [
      "  index  Order__uuid                           state    broker_order_id    buy_sell    event_type    CREATED                           originator_id    fill_price    create_timestamp                  symbol      fill_quantity    type    strategy_uuid                         closed    details           booked      quantity  STAGED                            portfolio_id    originator_uuid                       strategy_id    commission    exchange_order_id    product_type    portfolio_uuid\n",
      "-------  ------------------------------------  -------  -----------------  ----------  ------------  --------------------------------  ---------------  ------------  --------------------------------  ----------  ---------------  ------  ------------------------------------  --------  ----------------  --------  ----------  --------------------------------  --------------  ------------------------------------  -------------  ------------  -------------------  --------------  ------------------------------------\n",
      "      0  fe56852c-600d-4dc8-b338-abcc2ba7fa46  STAGED                      buy         ORDER         2017-05-02 12:47:45.062792+00:00  strategy.TEST1                 2017-05-02 12:47:45.062792+00:00  test.sym.1                   LIMIT   fd62f664-26b8-4641-8b4c-694b89993212  False     {'price': 100.5}                  1000  2017-05-02 12:47:45.062792+00:00  port_test       fd62f664-26b8-4641-8b4c-694b89993212  TEST1                                             stock           dbf7f287-3490-4923-8ccf-74c54af5d30d\n",
      "      1  54c4cbb3-972e-4549-b5f3-d7cae918d472  STAGED                      sell        ORDER         2017-05-02 12:47:45.062792+00:00  strategy.TEST1                 2017-05-02 12:47:45.062792+00:00  test.sym.2                   LIMIT   fd62f664-26b8-4641-8b4c-694b89993212  False     {'price': 5.5}                      55  2017-05-02 12:47:45.062792+00:00  port_test       fd62f664-26b8-4641-8b4c-694b89993212  TEST1                                             stock           dbf7f287-3490-4923-8ccf-74c54af5d30d\n"
     ]
    }
   ],
   "source": [
    "# create some orders and have Portfolio process them\n",
    "\n",
    "oms.market_state('stock', True)\n",
    "strat.order('stock', 'test.sym.1', 'B', 1000, 'LIMIT', 100.5)\n",
    "strat.order('stock', 'test.sym.2', 'S', 55, 'LIMIT', 5.5)\n",
    "port.process_orders()\n",
    "\n",
    "# see the orders in OrderManager\n",
    "oms.open_orders_df().show()"
   ]
  },
  {
   "cell_type": "code",
   "execution_count": 7,
   "metadata": {
    "collapsed": false
   },
   "outputs": [],
   "source": [
    "# process the orders in the staged order queue of the Portfolio\n",
    "\n",
    "rk.process_portfolio_orders(port)"
   ]
  },
  {
   "cell_type": "code",
   "execution_count": 8,
   "metadata": {
    "collapsed": false
   },
   "outputs": [
    {
     "name": "stdout",
     "output_type": "stream",
     "text": [
      "  index  Order__uuid                           state          broker_order_id    buy_sell    event_type    CREATED                           originator_id    fill_price    create_timestamp                  symbol      fill_quantity    type    strategy_uuid                         closed    RISK_ACCEPTED                     details         booked      quantity  STAGED                            portfolio_id    originator_uuid                       strategy_id    commission    exchange_order_id    product_type    portfolio_uuid\n",
      "-------  ------------------------------------  -------------  -----------------  ----------  ------------  --------------------------------  ---------------  ------------  --------------------------------  ----------  ---------------  ------  ------------------------------------  --------  --------------------------------  --------------  --------  ----------  --------------------------------  --------------  ------------------------------------  -------------  ------------  -------------------  --------------  ------------------------------------\n",
      "      0  54c4cbb3-972e-4549-b5f3-d7cae918d472  RISK_ACCEPTED                     sell        ORDER         2017-05-02 12:47:45.062792+00:00  strategy.TEST1                 2017-05-02 12:47:45.062792+00:00  test.sym.2                   LIMIT   fd62f664-26b8-4641-8b4c-694b89993212  False     2017-05-02 12:47:45.094004+00:00  {'price': 5.5}                    55  2017-05-02 12:47:45.062792+00:00  port_test       fd62f664-26b8-4641-8b4c-694b89993212  TEST1                                             stock           dbf7f287-3490-4923-8ccf-74c54af5d30d\n"
     ]
    }
   ],
   "source": [
    "# see the state of the orders\n",
    "\n",
    "oms.open_orders_df().show()"
   ]
  },
  {
   "cell_type": "code",
   "execution_count": 9,
   "metadata": {
    "collapsed": false
   },
   "outputs": [
    {
     "name": "stdout",
     "output_type": "stream",
     "text": [
      "  index  Order__uuid                           state          broker_order_id    buy_sell    event_type    CREATED                           originator_id    fill_price    create_timestamp                  symbol      fill_quantity    type    strategy_uuid                         closed    details           booked    RISK_REJECTED                       quantity  STAGED                            portfolio_id    originator_uuid                       strategy_id    commission    exchange_order_id    product_type    portfolio_uuid\n",
      "-------  ------------------------------------  -------------  -----------------  ----------  ------------  --------------------------------  ---------------  ------------  --------------------------------  ----------  ---------------  ------  ------------------------------------  --------  ----------------  --------  --------------------------------  ----------  --------------------------------  --------------  ------------------------------------  -------------  ------------  -------------------  --------------  ------------------------------------\n",
      "      0  fe56852c-600d-4dc8-b338-abcc2ba7fa46  RISK_REJECTED                     buy         ORDER         2017-05-02 12:47:45.062792+00:00  strategy.TEST1                 2017-05-02 12:47:45.062792+00:00  test.sym.1                   LIMIT   fd62f664-26b8-4641-8b4c-694b89993212  True      {'price': 100.5}            2017-05-02 12:47:45.094004+00:00        1000  2017-05-02 12:47:45.062792+00:00  port_test       fd62f664-26b8-4641-8b4c-694b89993212  TEST1                                             stock           dbf7f287-3490-4923-8ccf-74c54af5d30d\n"
     ]
    }
   ],
   "source": [
    "# and closed orders\n",
    "\n",
    "oms.closed_orders_df().show()"
   ]
  },
  {
   "cell_type": "code",
   "execution_count": 11,
   "metadata": {
    "collapsed": false
   },
   "outputs": [
    {
     "name": "stdout",
     "output_type": "stream",
     "text": [
      "uuid         : 54c4cbb3-972e-4549-b5f3-d7cae918d472\n",
      "state        : RISK_ACCEPTED\n",
      "originator_id: strategy.TEST1\n",
      "strategy_id  : TEST1\n",
      "symbol       : test.sym.2\n",
      "buy/sell     : sell\n",
      "quantity     : 55\n",
      "order_type   : LIMIT\n",
      "details      : {'price': 5.5}\n",
      "broker_id    : None\n",
      "exchange_id  : None\n",
      "fill_price   : None\n",
      "fill_qty     : None\n",
      "commission   : None\n",
      "booked       : None\n",
      "closed       : False\n",
      "\n",
      "state history:\n",
      "  index  timestamp                         state\n",
      "-------  --------------------------------  -------------\n",
      "      0  2017-05-02 12:47:45.062792+00:00  CREATED\n",
      "      1  2017-05-02 12:47:45.062792+00:00  STAGED\n",
      "      2  2017-05-02 12:47:45.094004+00:00  RISK_ACCEPTED\n",
      "\n",
      "replacements :\n",
      "  index    quantity  details\n",
      "-------  ----------  --------------\n",
      "      0          55  {'price': 5.5}\n",
      "\n",
      "fills        :\n",
      "index    timestamp    bartime    quantity    price    commission    booked\n",
      "-------  -----------  ---------  ----------  -------  ------------  --------\n"
     ]
    }
   ],
   "source": [
    "# print the first accepted order\n",
    "oms.orders_list({'state': 'RISK_ACCEPTED'})[0].print()"
   ]
  },
  {
   "cell_type": "code",
   "execution_count": 12,
   "metadata": {
    "collapsed": false
   },
   "outputs": [
    {
     "name": "stdout",
     "output_type": "stream",
     "text": [
      "uuid         : fe56852c-600d-4dc8-b338-abcc2ba7fa46\n",
      "state        : RISK_REJECTED\n",
      "originator_id: strategy.TEST1\n",
      "strategy_id  : TEST1\n",
      "symbol       : test.sym.1\n",
      "buy/sell     : buy\n",
      "quantity     : 1000\n",
      "order_type   : LIMIT\n",
      "details      : {'price': 100.5}\n",
      "broker_id    : None\n",
      "exchange_id  : None\n",
      "fill_price   : None\n",
      "fill_qty     : None\n",
      "commission   : None\n",
      "booked       : None\n",
      "closed       : True\n",
      "\n",
      "state history:\n",
      "  index  timestamp                         state\n",
      "-------  --------------------------------  -------------\n",
      "      0  2017-05-02 12:47:45.062792+00:00  CREATED\n",
      "      1  2017-05-02 12:47:45.062792+00:00  STAGED\n",
      "      2  2017-05-02 12:47:45.094004+00:00  RISK_REJECTED\n",
      "\n",
      "replacements :\n",
      "  index    quantity  details\n",
      "-------  ----------  ----------------\n",
      "      0        1000  {'price': 100.5}\n",
      "\n",
      "fills        :\n",
      "index    timestamp    bartime    quantity    price    commission    booked\n",
      "-------  -----------  ---------  ----------  -------  ------------  --------\n"
     ]
    }
   ],
   "source": [
    "# print the first rejected order\n",
    "oms.orders_list({'state': 'RISK_REJECTED'})[0].print()"
   ]
  },
  {
   "cell_type": "code",
   "execution_count": null,
   "metadata": {
    "collapsed": true
   },
   "outputs": [],
   "source": []
  }
 ],
 "metadata": {
  "kernelspec": {
   "display_name": "Python 3",
   "language": "python",
   "name": "python3"
  },
  "language_info": {
   "codemirror_mode": {
    "name": "ipython",
    "version": 3
   },
   "file_extension": ".py",
   "mimetype": "text/x-python",
   "name": "python",
   "nbconvert_exporter": "python",
   "pygments_lexer": "ipython3",
   "version": "3.6.0"
  }
 },
 "nbformat": 4,
 "nbformat_minor": 0
}
