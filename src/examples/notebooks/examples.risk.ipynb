{
 "cells": [
  {
   "cell_type": "markdown",
   "metadata": {},
   "source": [
    "Risk\n",
    "===="
   ]
  },
  {
   "cell_type": "code",
   "execution_count": 1,
   "metadata": {
    "collapsed": true
   },
   "source": [
    "from collections import namedtuple\n",
    "import data as datalib\n",
    "import puma as tw\n",
    "\n",
    "from tomahawk import risk"
   ],
   "outputs": []
  },
  {
   "cell_type": "code",
   "execution_count": 2,
   "metadata": {
    "collapsed": false
   },
   "source": [
    "# setup the market data\n",
    "db_credentials = credentials('test', 'localhost', prefix='db_')\n",
    "csvdf = datalib.CsvDataFeed(\"c:/rmbaries/git/pifq/src/puma/data/tests/inst/csv_data_feed\", source_name='test_csv_data_feed')\n",
    "csvdh = datalib.HistoricalDataManager(csvdf, **db_credentials)\n",
    "csvdl = datalib.LiveDataManager(csvdf, **db_credentials)\n",
    "mdm = datalib.MarketDataManager(csvdh, csvdl)"
   ],
   "outputs": []
  },
  {
   "cell_type": "code",
   "execution_count": 3,
   "metadata": {
    "collapsed": false
   },
   "source": [
    "# setup the Strategy, Portfolio and PositionManager\n",
    "oms = tw.OrderManager('test_unit', None)\n",
    "pm = tw.PositionManager('test_unit', oms, None)\n",
    "port = tw.Portfolio('port_test', oms, pm)\n",
    "obj_bridge = namedtuple('OB', 'order_manager, portfolio, market_data_manager')(oms, port, mdm)\n",
    "strat = tw.strategy.ExampleStrategy('TEST1', obj_bridge)\n",
    "port.add_strategy(strat)"
   ],
   "outputs": []
  },
  {
   "cell_type": "code",
   "execution_count": 4,
   "metadata": {
    "collapsed": false
   },
   "source": [
    "# initialize Risk\n",
    "\n",
    "rk = risk.Risk(oms)"
   ],
   "outputs": []
  },
  {
   "cell_type": "code",
   "execution_count": 5,
   "metadata": {
    "collapsed": false
   },
   "source": [
    "# insert symbols into strategy\n",
    "strat.add_symbols([('stock', 'test.sym.1', '1min'), ('stock', 'test.sym.2', '1min')])"
   ],
   "outputs": []
  },
  {
   "cell_type": "code",
   "execution_count": 6,
   "metadata": {
    "collapsed": false
   },
   "source": [
    "# create some orders and have Portfolio process them\n",
    "\n",
    "oms.market_state('stock', True)\n",
    "strat.order('stock', 'test.sym.1', 'B', 1000, 'LIMIT', 100.5)\n",
    "strat.order('stock', 'test.sym.2', 'S', 55, 'LIMIT', 5.5)\n",
    "port.process_orders()\n",
    "\n",
    "# see the orders in OrderManager\n",
    "oms.open_orders_df().show()"
   ],
   "outputs": []
  },
  {
   "cell_type": "code",
   "execution_count": 7,
   "metadata": {
    "collapsed": false
   },
   "source": [
    "# process the orders in the staged order queue of the Portfolio\n",
    "\n",
    "rk.process_portfolio_orders(port)"
   ],
   "outputs": []
  },
  {
   "cell_type": "code",
   "execution_count": 8,
   "metadata": {
    "collapsed": false
   },
   "source": [
    "# see the state of the orders\n",
    "\n",
    "oms.open_orders_df().show()"
   ],
   "outputs": []
  },
  {
   "cell_type": "code",
   "execution_count": 9,
   "metadata": {
    "collapsed": false
   },
   "source": [
    "# and closed orders\n",
    "\n",
    "oms.closed_orders_df().show()"
   ],
   "outputs": []
  },
  {
   "cell_type": "code",
   "execution_count": 11,
   "metadata": {
    "collapsed": false
   },
   "source": [
    "# print the first accepted order\n",
    "oms.orders_list({'state': 'RISK_ACCEPTED'})[0].print()"
   ],
   "outputs": []
  },
  {
   "cell_type": "code",
   "execution_count": 12,
   "metadata": {
    "collapsed": false
   },
   "source": [
    "# print the first rejected order\n",
    "oms.orders_list({'state': 'RISK_REJECTED'})[0].print()"
   ],
   "outputs": []
  },
  {
   "cell_type": "code",
   "execution_count": null,
   "metadata": {
    "collapsed": true
   },
   "source": [],
   "outputs": []
  }
 ],
 "metadata": {
  "kernelspec": {
   "display_name": "Python 3",
   "language": "python",
   "name": "python3"
  },
  "language_info": {
   "codemirror_mode": {
    "name": "ipython",
    "version": 3
   },
   "file_extension": ".py",
   "mimetype": "text/x-python",
   "name": "python",
   "nbconvert_exporter": "python",
   "pygments_lexer": "ipython3",
   "version": "3.6.0"
  }
 },
 "nbformat": 4,
 "nbformat_minor": 0
}
