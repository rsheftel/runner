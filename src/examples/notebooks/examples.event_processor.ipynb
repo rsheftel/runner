{
 "cells": [
  {
   "cell_type": "markdown",
   "metadata": {},
   "source": [
    "Event Processor\n",
    "===============\n",
    "The EventLoop is the inner object that executes all of the code for a single loop for a single bar. It is controlled by Runner\n",
    "the outer loop."
   ]
  },
  {
   "cell_type": "code",
   "execution_count": 1,
   "metadata": {
    "collapsed": false
   },
   "source": [
    "import pandas as pd\n",
    "from collections import namedtuple\n",
    "from montauk.database import tapdb\n",
    "import montauk.database.utils as dbutils\n",
    "import puma as tw\n",
    "import data as datalib\n",
    ""
   ],
   "outputs": []
  },
  {
   "cell_type": "code",
   "execution_count": 2,
   "metadata": {
    "collapsed": false
   },
   "source": [
    "# setup database credentials\n",
    "test_login = credentials('test', 'localhost')\n",
    "db_credentials = credentials('test', 'localhost', prefix='db_')\n",
    "\n",
    "# setup temp database and connections\n",
    "prod_tapdb = tapdb.tapdb_engine(**test_login)\n",
    "temp_tapdb = dbutils.make_engine('temp_tapdb', **test_login)\n",
    "dbutils.copy_table_schema(prod_tapdb, temp_tapdb)\n",
    "dbutils.copy_table_data(prod_tapdb, temp_tapdb, include_tables=['source'])\n",
    "\n",
    "# setup environment objects\n",
    "oms = tw.order_manager.OrderManager('test_unit', temp_tapdb)\n",
    "tap = tw.PositionManager('test_unit', oms, temp_tapdb)\n",
    "port = tw.Portfolio('port_test', oms, tap)\n",
    "risk = tw.Risk(oms)"
   ],
   "outputs": []
  },
  {
   "cell_type": "code",
   "execution_count": 3,
   "metadata": {
    "collapsed": true
   },
   "source": [
    "# setup paper broker and paper exchange\n",
    "\n",
    "exchange = tw.exchange.PaperExchange(live_frequency='1min')\n",
    "broker = tw.PaperBroker('broker_01', oms, exchange)"
   ],
   "outputs": []
  },
  {
   "cell_type": "code",
   "execution_count": 4,
   "metadata": {
    "collapsed": false
   },
   "source": [
    "# setup market data\n",
    "\n",
    "datafeed = datalib.CsvDataFeed('c:/rmbaries/git/pifq/src/montauk/data/tests/inst/csv_data_feed')\n",
    "hmds = datalib.HistoricalDataManager(datafeed, **db_credentials)\n",
    "lmds = datalib.LiveDataManager(datafeed, **db_credentials)\n",
    "mdm = datalib.MarketDataManager(hmds, lmds)\n",
    "tap.setup_market_data(mdm)"
   ],
   "outputs": []
  },
  {
   "cell_type": "code",
   "execution_count": 5,
   "metadata": {
    "collapsed": false
   },
   "source": [
    "# setup strategy\n",
    "obj_bridge = namedtuple('OB', 'order_manager, market_data_manager')(oms, mdm)\n",
    "\n",
    "strat = tw.strategy.ExampleStrategy('test.example', obj_bridge)\n",
    "strat.add_symbols([('stock', 'test.sym.3', '1min'), ('stock', 'AAPL', '1min'), ('stock', 'MSFT', '1min')])\n",
    "port.add_strategy(strat)"
   ],
   "outputs": []
  },
  {
   "cell_type": "code",
   "execution_count": 6,
   "metadata": {
    "collapsed": true
   },
   "source": [
    "# setup the EventProcessor\n",
    "event_loop = tw.EventProcessor([strat], [port], risk, oms, tap, broker, mdm, exchange)"
   ],
   "outputs": []
  },
  {
   "cell_type": "code",
   "execution_count": 7,
   "metadata": {
    "collapsed": true
   },
   "source": [
    "# start the strategies\n",
    "strat.start()"
   ],
   "outputs": []
  },
  {
   "cell_type": "code",
   "execution_count": 8,
   "metadata": {
    "collapsed": false
   },
   "source": [
    "# process the first bar\n",
    "mdm.bartime = pd.Timestamp('2010-01-01 09:30:00', tz='America/New_York')\n",
    "event_loop.begin_of_day()\n",
    "event_loop.market_open(['stock'])\n",
    "event_loop.process_bar(['stock'], '1min')"
   ],
   "outputs": []
  },
  {
   "cell_type": "code",
   "execution_count": 9,
   "metadata": {
    "collapsed": false
   },
   "source": [
    "# that process will have created orders and sent to broker and then exchange.\n",
    "# Open orders in OMS. Note that the orders are SENT because the arrived at the exchnage after the exchange had processed orders\n",
    "# for that bar.\n",
    "print(oms.open_orders_df())"
   ],
   "outputs": []
  },
  {
   "cell_type": "code",
   "execution_count": 10,
   "metadata": {
    "collapsed": false
   },
   "source": [
    "# and the closed orders\n",
    "print(oms.closed_orders_df())"
   ],
   "outputs": []
  },
  {
   "cell_type": "code",
   "execution_count": 11,
   "metadata": {
    "collapsed": false
   },
   "source": [
    "# Now process the next bar\n",
    "mdm.bartime = '2010-01-01 09:31:00'  # passing a string uses default_time_zone\n",
    "event_loop.process_bar(['stock'], '1min')\n",
    "\n",
    "# See that the previous open orders are now in LIVE state\n",
    "print(oms.open_orders_df())"
   ],
   "outputs": []
  },
  {
   "cell_type": "code",
   "execution_count": 12,
   "metadata": {
    "collapsed": false
   },
   "source": [
    "# and that one order was filled and moved to closed state\n",
    "print(oms.closed_orders_df())"
   ],
   "outputs": []
  },
  {
   "cell_type": "code",
   "execution_count": 13,
   "metadata": {
    "collapsed": false
   },
   "source": [
    "# see the closed orders in the PositionManager\n",
    "print(tap.positions_df)"
   ],
   "outputs": []
  },
  {
   "cell_type": "code",
   "execution_count": 14,
   "metadata": {
    "collapsed": true
   },
   "source": [
    "# at any time can check to make sure there are no stuck orders along the path\n",
    "event_loop.check_stuck_orders()"
   ],
   "outputs": []
  },
  {
   "cell_type": "code",
   "execution_count": 15,
   "metadata": {
    "collapsed": false
   },
   "source": [
    "# run the end of day process\n",
    "event_loop.market_close(['stock'])\n",
    "event_loop.end_of_day(['stock'])"
   ],
   "outputs": []
  },
  {
   "cell_type": "code",
   "execution_count": 16,
   "metadata": {
    "collapsed": false
   },
   "source": [
    "# see that the positions_df has been saved to the database\n",
    "print(tapdb.get_positions_df(temp_tapdb, 'test_unit', mdm.bartime))"
   ],
   "outputs": []
  },
  {
   "cell_type": "code",
   "execution_count": 17,
   "metadata": {
    "collapsed": false
   },
   "source": [
    "# see the orders saved to database\n",
    "print(tapdb.get_orders_df(temp_tapdb, 'test_unit', mdm.bartime))"
   ],
   "outputs": []
  },
  {
   "cell_type": "code",
   "execution_count": null,
   "metadata": {
    "collapsed": true
   },
   "source": [],
   "outputs": []
  }
 ],
 "metadata": {
  "kernelspec": {
   "display_name": "Python 3",
   "language": "python",
   "name": "python3"
  },
  "language_info": {
   "codemirror_mode": {
    "name": "ipython",
    "version": 3
   },
   "file_extension": ".py",
   "mimetype": "text/x-python",
   "name": "python",
   "nbconvert_exporter": "python",
   "pygments_lexer": "ipython3",
   "version": "3.6.0"
  }
 },
 "nbformat": 4,
 "nbformat_minor": 0
}
