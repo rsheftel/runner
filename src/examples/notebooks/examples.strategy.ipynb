{
 "cells": [
  {
   "cell_type": "markdown",
   "metadata": {},
   "source": [
    "Strategy\n",
    "========\n",
    "The Strategy class is an Abstract Base Class, so we will use ExampleStrategy."
   ]
  },
  {
   "cell_type": "code",
   "execution_count": 1,
   "metadata": {
    "collapsed": true
   },
   "source": [
    "from collections import namedtuple\n",
    "\n",
    "import pandas as pd\n",
    "import database.symbol as symboldb\n",
    "import data as datalib\n",
    "import puma as tw\n",
    "from tomahawk import strategy"
   ],
   "outputs": []
  },
  {
   "cell_type": "code",
   "execution_count": 2,
   "metadata": {
    "collapsed": false
   },
   "source": [
    "# Setup the market data\n",
    "test_login = credentials('test', 'localhost')\n",
    "db_credentials = credentials('test', 'localhost', prefix='db_')\n",
    "seng = symboldb.symbol_engine('stock', **test_login)\n",
    "symboldf = datalib.SymbolDBDataFeed({'stock': seng}, source='test_source_02')\n",
    "hdm = datalib.HistoricalDataManager(symboldf, **db_credentials)\n",
    "ldm = datalib.HistoricalDataManager(symboldf, **db_credentials)\n",
    "mdm = datalib.MarketDataManager(hdm, ldm)"
   ],
   "outputs": []
  },
  {
   "cell_type": "markdown",
   "metadata": {},
   "source": [
    "Initialization\n",
    "--------------\n",
    "At the initialization the Strategy object will attach itself to the other objects that are needed like OrderManager, Portfolio and PositionManager."
   ]
  },
  {
   "cell_type": "code",
   "execution_count": 3,
   "metadata": {
    "collapsed": false
   },
   "source": [
    "# Initialize the environment objects\n",
    "oms = tw.OrderManager('test_unit', None)\n",
    "pm = tw.PositionManager('test_unit', oms, None)\n",
    "port = tw.Portfolio('test_port', oms, pm)"
   ],
   "outputs": []
  },
  {
   "cell_type": "code",
   "execution_count": 4,
   "metadata": {
    "collapsed": true
   },
   "source": [
    "# The strategy needs an object that when called with dot-notation will return the environment objects\n",
    "obj_bridge = namedtuple('OB', 'order_manager, portfolio, position_manager, market_data_manager')(oms, port, pm, mdm)"
   ],
   "outputs": []
  },
  {
   "cell_type": "code",
   "execution_count": 5,
   "metadata": {
    "collapsed": true
   },
   "source": [
    "# Now intialize the strategy\n",
    "\n",
    "strat = strategy.ExampleStrategy('strat-id', obj_bridge)"
   ],
   "outputs": []
  },
  {
   "cell_type": "code",
   "execution_count": 6,
   "metadata": {
    "collapsed": true
   },
   "source": [
    "# Attach to a portfolio\n",
    "port.add_strategy(strat)"
   ],
   "outputs": []
  },
  {
   "cell_type": "code",
   "execution_count": 7,
   "metadata": {
    "collapsed": false
   },
   "source": [
    "# add symbols to the strategy. The strategy can access any information in the MarketDataManager, but adding the symbols here\n",
    "# will cause them to be added to the MarketDataManager.\n",
    "\n",
    "strat.add_symbols([('stock', 'MSFT', '1min'), ('stock', 'AAPL', '1min'), ('stock', 'test.sym.3', '1min')])\n",
    "\n",
    "strat.symbol_tuples"
   ],
   "outputs": []
  },
  {
   "cell_type": "code",
   "execution_count": 8,
   "metadata": {
    "collapsed": false
   },
   "source": [
    "# can also request the product_types that were added and the frequencies\n",
    "\n",
    "print(strat.product_types)\n",
    "print(strat.frequencies)\n",
    "print(strat.symbols)"
   ],
   "outputs": []
  },
  {
   "cell_type": "code",
   "execution_count": 9,
   "metadata": {
    "collapsed": false
   },
   "source": [
    "# add parameters as a dict\n",
    "\n",
    "params = {'param1': 99, 'param2': [1,2,3], 'param3': 'BUY'}\n",
    "strat.set_parameters(params)\n",
    "print(strat.parameters)"
   ],
   "outputs": []
  },
  {
   "cell_type": "markdown",
   "metadata": {},
   "source": [
    "Order methods\n",
    "-------------"
   ]
  },
  {
   "cell_type": "markdown",
   "metadata": {},
   "source": [
    "Create Order\n",
    "------------"
   ]
  },
  {
   "cell_type": "code",
   "execution_count": 10,
   "metadata": {
    "collapsed": false
   },
   "source": [
    "# create an order\n",
    "order_id = strat.order('stock', 'test.sym.3', 'buy', 100, 'LIMIT', price=99.9)\n",
    "\n",
    "oms.open_orders_df().show()"
   ],
   "outputs": []
  },
  {
   "cell_type": "markdown",
   "metadata": {},
   "source": [
    "Cancel Order\n",
    "------------"
   ]
  },
  {
   "cell_type": "code",
   "execution_count": 11,
   "metadata": {
    "collapsed": false
   },
   "source": [
    "# cancel the order\n",
    "strat.cancel_order(oms.order(order_id))\n",
    "\n",
    "oms.open_orders_df().show()"
   ],
   "outputs": []
  },
  {
   "cell_type": "markdown",
   "metadata": {},
   "source": [
    "Replace Order\n",
    "-------------"
   ]
  },
  {
   "cell_type": "code",
   "execution_count": 12,
   "metadata": {
    "collapsed": false
   },
   "source": [
    "order_id = strat.order('stock', 'test.sym.3', 'buy', 100, 'LIMIT', price=99.9)\n",
    "order_obj = strat.get_order(order_id)\n",
    "strat.replace_order(order_obj, 50, price=44.5)\n",
    "\n",
    "oms.open_orders_df().show()"
   ],
   "outputs": []
  },
  {
   "cell_type": "markdown",
   "metadata": {},
   "source": [
    "Get Order\n",
    "---------"
   ]
  },
  {
   "cell_type": "code",
   "execution_count": 13,
   "metadata": {
    "collapsed": false
   },
   "source": [
    "# Given a UUID, retreive the Order object\n",
    "strat.get_order(order_id)"
   ],
   "outputs": []
  },
  {
   "cell_type": "markdown",
   "metadata": {},
   "source": [
    "Intents\n",
    "-------"
   ]
  },
  {
   "cell_type": "code",
   "execution_count": 14,
   "metadata": {
    "collapsed": false
   },
   "source": [
    "# Create an intent and retreive the intents\n",
    "strat.intent('stock', 'test.sym.3', 50)\n",
    "strat.get_intent('stock', 'test.sym.3')"
   ],
   "outputs": []
  },
  {
   "cell_type": "markdown",
   "metadata": {},
   "source": [
    "Position Information\n",
    "--------------------"
   ]
  },
  {
   "cell_type": "code",
   "execution_count": 15,
   "metadata": {
    "collapsed": false
   },
   "source": [
    "# enter a trade in the position manager\n",
    "pm.enter_trade('orig-id', 'strat-id', pd.Timestamp('2010-01-01 09:31:00', tz='America/New_York'), 'stock', 'test.sym.3', 'buy', 250, 95.5)"
   ],
   "outputs": []
  },
  {
   "cell_type": "code",
   "execution_count": 16,
   "metadata": {
    "collapsed": false
   },
   "source": [
    "# get the current position\n",
    "strat.position('stock', 'test.sym.3')"
   ],
   "outputs": []
  },
  {
   "cell_type": "markdown",
   "metadata": {},
   "source": [
    "on_X methods\n",
    "------------\n",
    "The Strategy object is event driven. The on_X methods will be invoked by the EventLooper. Execution of the Strategy will be\n",
    "single threaded so that the control is not returned to the EventLoop until the on_X method is complete."
   ]
  },
  {
   "cell_type": "code",
   "execution_count": 17,
   "metadata": {
    "collapsed": false
   },
   "source": [
    "# on_start\n",
    "# the examples strategy sets barcounr to 0 on start\n",
    "strat.on_start()\n",
    "strat.barcount"
   ],
   "outputs": []
  },
  {
   "cell_type": "code",
   "execution_count": 18,
   "metadata": {
    "collapsed": false
   },
   "source": [
    "# on_begin_of_day\n",
    "# the exmple appends each new day to a list\n",
    "strat.on_begin_of_day(pd.Timestamp('2010-01-01 09:30:00', tz='America/New_York'))\n",
    "strat.new_days"
   ],
   "outputs": []
  },
  {
   "cell_type": "code",
   "execution_count": 19,
   "metadata": {
    "collapsed": false
   },
   "source": [
    "# on_market_open, example appends the datetime to a list\n",
    "strat.on_market_open(pd.Timestamp('2010-01-01 09:30:00', tz='America/New_York'))\n",
    "strat.open_days"
   ],
   "outputs": []
  },
  {
   "cell_type": "code",
   "execution_count": 20,
   "metadata": {
    "collapsed": false
   },
   "source": [
    "# on_bar\n",
    "# the ExampleStrategy will create some orders when called for this time\n",
    "strat.on_bar(pd.Timestamp('2010-01-01 09:30:00', tz='America/New_York'))\n",
    "\n",
    "oms.orders_df().show()"
   ],
   "outputs": []
  },
  {
   "cell_type": "code",
   "execution_count": 21,
   "metadata": {
    "collapsed": false
   },
   "source": [
    "# on_fills\n",
    "# when the symbol MSFT is filled this method is called and new orders are placed\n",
    "\n",
    "ordr = oms.orders_list({'symbol': 'MSFT'})[0]\n",
    "oms.change_state(ordr, 'FILLED')\n",
    "ordr.add_fill(100, pd.Timestamp('2016-08-01 11:13:14', tz='America/New_York'), pd.Timestamp('2016-01-01 09:30:00', tz='America/New_York'), 50, 44.5, -0.5)\n",
    "strat.on_fills(pd.Timestamp('2010-01-01 09:31:00'), [ordr])\n",
    "\n",
    "# see the new order in the open orders\n",
    "oms.open_orders_df().show()"
   ],
   "outputs": []
  },
  {
   "cell_type": "code",
   "execution_count": 22,
   "metadata": {
    "collapsed": false
   },
   "source": [
    "# on_cancels\n",
    "# running on_cancels will cause a new test.sym.3 to be created\n",
    "strat.on_cancels(pd.Timestamp('2099-01-01 10:00:00', tz='America/New_York'), None)\n",
    "oms.open_orders_df().show()"
   ],
   "outputs": []
  },
  {
   "cell_type": "code",
   "execution_count": 23,
   "metadata": {
    "collapsed": false
   },
   "source": [
    "# on_market_close\n",
    "strat.on_market_close(pd.Timestamp('2010-01-01 16:00:00', tz='America/New_York'))\n",
    "strat.closed_days"
   ],
   "outputs": []
  },
  {
   "cell_type": "code",
   "execution_count": 24,
   "metadata": {
    "collapsed": false
   },
   "source": [
    "# on_end_of_day\n",
    "strat.on_end_of_day(pd.Timestamp('2010-01-01 16:00:00', tz='America/New_York'))\n",
    "strat.days_done"
   ],
   "outputs": []
  },
  {
   "cell_type": "code",
   "execution_count": 25,
   "metadata": {
    "collapsed": false
   },
   "source": [
    "# on_stop\n",
    "strat.on_stop(pd.Timestamp('2010-01-01 09:30:00', tz='America/New_York'))\n",
    "strat.start_stop"
   ],
   "outputs": []
  },
  {
   "cell_type": "code",
   "execution_count": null,
   "metadata": {
    "collapsed": true
   },
   "source": [],
   "outputs": []
  }
 ],
 "metadata": {
  "kernelspec": {
   "display_name": "Python 3",
   "language": "python",
   "name": "python3"
  },
  "language_info": {
   "codemirror_mode": {
    "name": "ipython",
    "version": 3
   },
   "file_extension": ".py",
   "mimetype": "text/x-python",
   "name": "python",
   "nbconvert_exporter": "python",
   "pygments_lexer": "ipython3",
   "version": "3.6.0"
  }
 },
 "nbformat": 4,
 "nbformat_minor": 0
}
