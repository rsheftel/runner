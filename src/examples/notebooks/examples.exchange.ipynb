{
 "cells": [
  {
   "cell_type": "markdown",
   "metadata": {},
   "source": [
    "Exchange\n",
    "========\n",
    "PaperExchange\n",
    "-------------\n",
    "The PaperExchange is for simulation back-testing"
   ]
  },
  {
   "cell_type": "code",
   "execution_count": 1,
   "metadata": {
    "collapsed": true
   },
   "outputs": [],
   "source": [
    "import pandas as pd\n",
    "import data as datalib\n",
    "\n",
    "from data import data_manager, market_data_manager\n",
    "from tomahawk import exchange"
   ]
  },
  {
   "cell_type": "code",
   "execution_count": 2,
   "metadata": {
    "collapsed": false
   },
   "outputs": [],
   "source": [
    "# Initialize the PaperExchange\n",
    "pe = exchange.PaperExchange()"
   ]
  },
  {
   "cell_type": "code",
   "execution_count": 3,
   "metadata": {
    "collapsed": false
   },
   "outputs": [
    {
     "name": "stdout",
     "output_type": "stream",
     "text": [
      "             index  product_type    symbol    state    buy_sell      quantity  order_type    fill_quantity    fill_price      price            order_id  replaces\n",
      "------------------  --------------  --------  -------  ----------  ----------  ------------  ---------------  ------------  -------  ------------------  -----------------------------------------------\n",
      "170502084518000001  stock           TEST      LIVE     sell                30  LIMIT                                           10.1  170502084518000001  [Replace(quantity=30, details={'price': 10.1})]\n"
     ]
    }
   ],
   "source": [
    "# Receive and order. The PaperExchange does not take in the order object but just the relevant order details\n",
    "order_id = pe.receive_order('stock', 'TEST', 'sell', 30, 'LIMIT', price=10.10)\n",
    "pe.open_orders_df.show()"
   ]
  },
  {
   "cell_type": "code",
   "execution_count": 4,
   "metadata": {
    "collapsed": false
   },
   "outputs": [
    {
     "name": "stdout",
     "output_type": "stream",
     "text": [
      "             index  product_type    symbol    state    buy_sell      quantity  order_type      fill_quantity    fill_price    price            order_id  replaces                                         fills                                                                                                                           close_bar_timestamp\n",
      "------------------  --------------  --------  -------  ----------  ----------  ------------  ---------------  ------------  -------  ------------------  -----------------------------------------------  ------------------------------------------------------------------------------------------------------------------------------  -------------------------\n",
      "170502084518000001  stock           TEST      FILLED   sell                30  LIMIT                      30          10.1     10.1  170502084518000001  [Replace(quantity=30, details={'price': 10.1})]  [Fill(id=170502084518000001, timestamp=Timestamp('2010-01-04 10:01:00-0500', tz='America/New_York'), quantity=30, price=10.1)]  2010-01-04 10:01:00-05:00\n"
     ]
    }
   ],
   "source": [
    "# Now fill the order and look at closed orders. This should not be done directly and is for demo only\n",
    "pe.fill_order(pe.get_order(order_id), 30, pd.Timestamp('2010-01-04 10:01:00', tz='America/New_York'))\n",
    "pe.closed_orders_df.show()"
   ]
  },
  {
   "cell_type": "code",
   "execution_count": 5,
   "metadata": {
    "collapsed": false
   },
   "outputs": [],
   "source": [
    "# The proper way is to use process_orders() to run a full loop on all symbols and outstanding orders for the current bar\n",
    "# This requires setting up all the pre-requesite objects\n",
    "\n",
    "csvdf = datalib.CsvDataFeed('c:/rmbaries/git/pifq/src/puma/data/tests/inst/csv_data_feed')\n",
    "lmdm = data_manager.LiveDataManager(csvdf, **credentials('test', 'localhost', 'db_'))\n",
    "mdm = market_data_manager.MarketDataManager(None, lmdm)\n",
    "mdm.add_symbols('stock', 'test.sym.3', '1min')"
   ]
  },
  {
   "cell_type": "code",
   "execution_count": 6,
   "metadata": {
    "collapsed": true
   },
   "outputs": [],
   "source": [
    "# setup the PaperExchange and receive some orders\n",
    "\n",
    "pe = exchange.PaperExchange()\n",
    "id_1 = pe.receive_order('stock', 'test.sym.3', 'sell', 30, 'LIMIT', price=10.10)\n",
    "id_2 = pe.receive_order('stock', 'test.sym.3', 'buy', 130, 'LIMIT', price=10.10)"
   ]
  },
  {
   "cell_type": "code",
   "execution_count": 7,
   "metadata": {
    "collapsed": true
   },
   "outputs": [],
   "source": [
    "# Now set the bartime on the MarketDataManager, update the data and process the orders\n",
    "\n",
    "mdm.bartime = '2010-01-01 09:31:00'\n",
    "mdm.update('stock', '1min')\n",
    "pe.process_orders(mdm)"
   ]
  },
  {
   "cell_type": "code",
   "execution_count": 8,
   "metadata": {
    "collapsed": false
   },
   "outputs": [
    {
     "name": "stdout",
     "output_type": "stream",
     "text": [
      "             index  product_type    symbol      state    buy_sell      quantity  order_type    fill_quantity    fill_price      price            order_id  replaces\n",
      "------------------  --------------  ----------  -------  ----------  ----------  ------------  ---------------  ------------  -------  ------------------  ------------------------------------------------\n",
      "170502084519000002  stock           test.sym.3  LIVE     buy                130  LIMIT                                           10.1  170502084519000002  [Replace(quantity=130, details={'price': 10.1})]\n"
     ]
    }
   ],
   "source": [
    "# the remaining open orders\n",
    "print(pe.open_orders_df)"
   ]
  },
  {
   "cell_type": "code",
   "execution_count": 9,
   "metadata": {
    "collapsed": false
   },
   "outputs": [
    {
     "name": "stdout",
     "output_type": "stream",
     "text": [
      "             index  product_type    symbol      state    buy_sell      quantity  order_type      fill_quantity    fill_price    price            order_id  replaces                                         fills                                                                                                                           close_bar_timestamp\n",
      "------------------  --------------  ----------  -------  ----------  ----------  ------------  ---------------  ------------  -------  ------------------  -----------------------------------------------  ------------------------------------------------------------------------------------------------------------------------------  -------------------------\n",
      "170502084519000001  stock           test.sym.3  FILLED   sell                30  LIMIT                      30          10.1     10.1  170502084519000001  [Replace(quantity=30, details={'price': 10.1})]  [Fill(id=170502084519000001, timestamp=Timestamp('2010-01-01 09:31:00-0500', tz='America/New_York'), quantity=30, price=10.1)]  2010-01-01 09:31:00-05:00\n"
     ]
    }
   ],
   "source": [
    "# the closed orders\n",
    "print(pe.closed_orders_df)"
   ]
  },
  {
   "cell_type": "markdown",
   "metadata": {
    "collapsed": true
   },
   "source": [
    "Parameters\n",
    "----------\n",
    "PaperExchange() can be initialized with overrides of the paramaters"
   ]
  },
  {
   "cell_type": "code",
   "execution_count": 10,
   "metadata": {
    "collapsed": false
   },
   "outputs": [
    {
     "data": {
      "text/plain": [
       "{'fill_multiplier': 0.75}"
      ]
     },
     "execution_count": 10,
     "metadata": {},
     "output_type": "execute_result"
    }
   ],
   "source": [
    "paper_ex = exchange.PaperExchange(parameters={'fill_multiplier': 0.75})\n",
    "\n",
    "paper_ex.parameters"
   ]
  }
 ],
 "metadata": {
  "kernelspec": {
   "display_name": "Python 3",
   "language": "python",
   "name": "python3"
  },
  "language_info": {
   "codemirror_mode": {
    "name": "ipython",
    "version": 3
   },
   "file_extension": ".py",
   "mimetype": "text/x-python",
   "name": "python",
   "nbconvert_exporter": "python",
   "pygments_lexer": "ipython3",
   "version": "3.6.0"
  }
 },
 "nbformat": 4,
 "nbformat_minor": 0
}
