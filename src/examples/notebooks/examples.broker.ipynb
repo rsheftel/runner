{
 "cells": [
  {
   "cell_type": "markdown",
   "metadata": {},
   "source": [
    "Broker\n",
    "======\n",
    "PaperBroker\n",
    "-----------"
   ]
  },
  {
   "cell_type": "code",
   "metadata": {
    "collapsed": true,
    "ExecuteTime": {
     "end_time": "2024-07-05T20:08:14.366941Z",
     "start_time": "2024-07-05T20:08:14.361423Z"
    }
   },
   "source": [
    "import puma as tw\n",
    "from puma import broker"
   ],
   "outputs": [],
   "execution_count": 2
  },
  {
   "cell_type": "code",
   "metadata": {
    "ExecuteTime": {
     "end_time": "2024-07-05T20:08:16.603007Z",
     "start_time": "2024-07-05T20:08:16.597238Z"
    }
   },
   "source": [
    "# initialize the PaperBroker and PaperExchange\n",
    "\n",
    "oms = tw.OrderManager('test01', None)\n",
    "paper_ex = tw.PaperExchange()\n",
    "paper_bro = broker.PaperBroker('broker_id', oms, paper_ex)"
   ],
   "outputs": [],
   "execution_count": 3
  },
  {
   "cell_type": "code",
   "metadata": {
    "ExecuteTime": {
     "end_time": "2024-07-05T20:08:20.275067Z",
     "start_time": "2024-07-05T20:08:20.269269Z"
    }
   },
   "source": [
    "# create an order and then use broker process order from oms\n",
    "\n",
    "ordr = tw.Order('001', 'orig_id', '123-456', 'stat_id', 'stock', 'TEST', 's', 250, 'LIMIT', price=15.15)\n",
    "ordr.state = 'RISK_ACCEPTED'\n",
    "paper_bro.send_order(ordr)"
   ],
   "outputs": [],
   "execution_count": 4
  },
  {
   "cell_type": "code",
   "execution_count": 4,
   "metadata": {},
   "outputs": [
    {
     "name": "stdout",
     "output_type": "stream",
     "text": [
      "Broker ID  : 170516213708000100\n",
      "Exchange ID: 170516213708000001\n"
     ]
    }
   ],
   "source": [
    "# see the broker and exchnage order IDs in the order\n",
    "print('Broker ID  :', ordr.broker_order_id)\n",
    "print('Exchange ID:', ordr.exchange_order_id)"
   ]
  },
  {
   "cell_type": "code",
   "execution_count": 5,
   "metadata": {},
   "outputs": [
    {
     "data": {
      "text/plain": [
       "{'buy_sell': 'sell',\n",
       " 'fill_price': None,\n",
       " 'fill_quantity': None,\n",
       " 'order_id': 170516213708000001,\n",
       " 'order_type': 'LIMIT',\n",
       " 'price': 15.15,\n",
       " 'product_type': 'stock',\n",
       " 'quantity': 250,\n",
       " 'replaces': [Replace(quantity=250, details={'price': 15.15})],\n",
       " 'state': 'LIVE',\n",
       " 'symbol': 'TEST'}"
      ]
     },
     "execution_count": 5,
     "metadata": {},
     "output_type": "execute_result"
    }
   ],
   "source": [
    "# get the order state\n",
    "paper_bro.get_exchange_order(ordr)"
   ]
  },
  {
   "cell_type": "markdown",
   "metadata": {
    "collapsed": true
   },
   "source": [
    "Parameters\n",
    "----------\n",
    "PaperBroker() can be initialized with overrides of the paramaters"
   ]
  },
  {
   "cell_type": "code",
   "execution_count": 6,
   "metadata": {},
   "outputs": [
    {
     "data": {
      "text/plain": [
       "{'stock_fee_per_share': -0.5}"
      ]
     },
     "execution_count": 6,
     "metadata": {},
     "output_type": "execute_result"
    }
   ],
   "source": [
    "paper_bro = broker.PaperBroker('test_bro', oms, paper_ex, parameters={'stock_fee_per_share': -0.5})\n",
    "\n",
    "paper_bro.parameters"
   ]
  },
  {
   "cell_type": "code",
   "execution_count": null,
   "metadata": {
    "collapsed": true
   },
   "outputs": [],
   "source": []
  }
 ],
 "metadata": {
  "kernelspec": {
   "display_name": "Python 3",
   "language": "python",
   "name": "python3"
  },
  "language_info": {
   "codemirror_mode": {
    "name": "ipython",
    "version": 3
   },
   "file_extension": ".py",
   "mimetype": "text/x-python",
   "name": "python",
   "nbconvert_exporter": "python",
   "pygments_lexer": "ipython3",
   "version": "3.6.1"
  }
 },
 "nbformat": 4,
 "nbformat_minor": 1
}
