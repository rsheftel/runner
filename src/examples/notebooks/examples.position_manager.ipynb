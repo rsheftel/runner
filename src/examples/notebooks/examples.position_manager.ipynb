{
 "cells": [
  {
   "cell_type": "markdown",
   "metadata": {},
   "source": [
    "Position Manager\n",
    "================\n",
    "The PositionManager is the trade repository for completed trades (which can include canceled or other reasons than filled). It\n",
    "maintains current positions, trade blotter, PnL and is the entry point for metrics calculation."
   ]
  },
  {
   "cell_type": "code",
   "execution_count": 1,
   "metadata": {
    "collapsed": false
   },
   "outputs": [],
   "source": [
    "# Import packages and initialize the PositionManager\n",
    "\n",
    "import puma as tw\n",
    "import pandas as pd\n",
    "\n",
    "import database.symbol as symboldb\n",
    "import data as datalib\n",
    "from tomahawk import position_manager, OrderManager\n",
    "\n",
    "oms = OrderManager('test_unit', None)\n",
    "pm = position_manager.PositionManager('test_unit', oms, None)"
   ]
  },
  {
   "cell_type": "markdown",
   "metadata": {},
   "source": [
    "Trade Entry\n",
    "-----------"
   ]
  },
  {
   "cell_type": "code",
   "execution_count": 2,
   "metadata": {
    "collapsed": false
   },
   "outputs": [
    {
     "name": "stdout",
     "output_type": "stream",
     "text": [
      "('strategy_id', 'product_type', 'symbol')      current_position    start_position    net_quantity    buy_quantity    sell_quantity    buy_avg_price    sell_avg_price    buy_pnl    sell_pnl    trade_pnl    position_pnl    gross_pnl    commission    net_pnl  prior_close_price    current_price\n",
      "-------------------------------------------  ------------------  ----------------  --------------  --------------  ---------------  ---------------  ----------------  ---------  ----------  -----------  --------------  -----------  ------------  ---------  -------------------  ---------------\n",
      "('strategy-id', 'stock', 'test.sym.9')                      100                 0             100             100                0               50                 0          0           0            0               0            0             0          0\n"
     ]
    }
   ],
   "source": [
    "# Enter a trade from the trade details\n",
    "\n",
    "pm.enter_trade('orig-id', 'strategy-id', pd.Timestamp('2010-01-05 13:04:00', tz='America/New_York'), 'stock', 'test.sym.9', 'buy', 100, 50)\n",
    "\n",
    "# View the positions DataFrame\n",
    "\n",
    "print(pm.positions_df)"
   ]
  },
  {
   "cell_type": "code",
   "execution_count": 3,
   "metadata": {
    "collapsed": false
   },
   "outputs": [
    {
     "name": "stdout",
     "output_type": "stream",
     "text": [
      "('strategy_id', 'product_type', 'symbol')      current_position    start_position    net_quantity    buy_quantity    sell_quantity    buy_avg_price    sell_avg_price    buy_pnl    sell_pnl    trade_pnl    position_pnl    gross_pnl    commission    net_pnl  prior_close_price    current_price\n",
      "-------------------------------------------  ------------------  ----------------  --------------  --------------  ---------------  ---------------  ----------------  ---------  ----------  -----------  --------------  -----------  ------------  ---------  -------------------  ---------------\n",
      "('strategy-id', 'stock', 'test.sym.9')                      200                 0             200             200                0               75                 0          0           0            0               0            0            -1          0\n"
     ]
    }
   ],
   "source": [
    "# Enter a trade from Order object and view the positions DataFrame\n",
    "\n",
    "order = tw.Order('o01', 'orig-id', '123-456', 'strategy-id', 'stock', 'test.sym.9', 'buy', 100, 'LIMIT', price=100)\n",
    "order.state = 'FILLED'\n",
    "order.add_fill(1001, pd.Timestamp('2016-08-01 12:13:14', tz='America/New_York'), pd.Timestamp('2016-01-01 09:30:00', tz='America/New_York'), 100, 100, -1.0)\n",
    "pm.enter_trade_from_order(order)\n",
    "\n",
    "pm.positions_df.show()"
   ]
  },
  {
   "cell_type": "markdown",
   "metadata": {},
   "source": [
    "Order Entry from OrderManager\n",
    "-----------------------------"
   ]
  },
  {
   "cell_type": "code",
   "execution_count": 4,
   "metadata": {
    "collapsed": false
   },
   "outputs": [],
   "source": [
    "# create a new order and insert into OrderManager\n",
    "order = tw.Order('123-456', 'manual_id', '002', 'strat-id', 'stock', 'test.sym.10', 'sell', 200, 'LIMIT', price=55.5)\n",
    "oms.new_order(order)"
   ]
  },
  {
   "cell_type": "code",
   "execution_count": 5,
   "metadata": {
    "collapsed": false
   },
   "outputs": [
    {
     "name": "stdout",
     "output_type": "stream",
     "text": [
      "  index  product_type    symbol       strategy_id    Order__uuid                           CREATED                           originator_uuid    state    closed    booked      fill_quantity  type    broker_order_id      strategy_uuid  portfolio_uuid    event_type    create_timestamp                  details          exchange_order_id    buy_sell      commission    quantity  FILLED                            originator_id    portfolio_id      fill_price\n",
      "-------  --------------  -----------  -------------  ------------------------------------  --------------------------------  -----------------  -------  --------  --------  ---------------  ------  -----------------  ---------------  ----------------  ------------  --------------------------------  ---------------  -------------------  ----------  ------------  ----------  --------------------------------  ---------------  --------------  ------------\n",
      "      0  stock           test.sym.10  strat-id       280bd50c-8ccf-4e1e-b6c6-a54d8d872223  2017-05-17 02:35:30.738800+00:00  123-456            FILLED   False     False                 200  LIMIT                                  002                    ORDER         2017-05-17 02:35:30.738800+00:00  {'price': 55.5}                       sell                  -2         200  2017-05-17 02:35:30.776561+00:00  manual_id                                55.5\n"
     ]
    }
   ],
   "source": [
    "# change state to FILLED\n",
    "order.add_fill(1002, pd.Timestamp('2016-08-01 12:13:14', tz='America/New_York'), pd.Timestamp('2016-01-01 09:30:00', tz='America/New_York'), 200, 55.5, -2.0)\n",
    "oms.change_state(order, 'FILLED')\n",
    "oms.set_booked(order, False)\n",
    "oms.closed_orders_df().show()\n",
    "\n",
    "# Note that the booked state is False"
   ]
  },
  {
   "cell_type": "code",
   "execution_count": 6,
   "metadata": {
    "collapsed": false
   },
   "outputs": [
    {
     "name": "stdout",
     "output_type": "stream",
     "text": [
      "('strategy_id', 'product_type', 'symbol')      current_position    start_position    net_quantity    buy_quantity    sell_quantity    buy_avg_price    sell_avg_price    buy_pnl    sell_pnl    trade_pnl    position_pnl    gross_pnl    commission    net_pnl  prior_close_price    current_price\n",
      "-------------------------------------------  ------------------  ----------------  --------------  --------------  ---------------  ---------------  ----------------  ---------  ----------  -----------  --------------  -----------  ------------  ---------  -------------------  ---------------\n",
      "('strat-id', 'stock', 'test.sym.10')                       -200                 0            -200               0              200                0              55.5          0           0            0               0            0            -2          0\n",
      "('strategy-id', 'stock', 'test.sym.9')                      200                 0             200             200                0               75               0            0           0            0               0            0            -1          0\n"
     ]
    }
   ],
   "source": [
    "# Use PositionManager to book the trade\n",
    "pm.book_fills()\n",
    "\n",
    "print(pm.positions_df)"
   ]
  },
  {
   "cell_type": "markdown",
   "metadata": {
    "collapsed": true
   },
   "source": [
    "PnL Calculations\n",
    "----------------"
   ]
  },
  {
   "cell_type": "code",
   "execution_count": 7,
   "metadata": {
    "collapsed": false
   },
   "outputs": [],
   "source": [
    "# A MarketDataManager must be setup and attached\n",
    "db_credentials = credentials('test', 'localhost', 'db_')\n",
    "seng = symboldb.symbol_engine('stock', **credentials('test', 'localhost'))\n",
    "datafeed = datalib.SymbolDBDataFeed({'stock': seng}, source='test_source_02')\n",
    "lmds = datalib.LiveDataManager(datafeed, **db_credentials)\n",
    "hmds = datalib.LiveDataManager(datafeed, **db_credentials)\n",
    "mdm = datalib.MarketDataManager(hmds, lmds)\n",
    "\n",
    "pm.setup_market_data(mdm)"
   ]
  },
  {
   "cell_type": "code",
   "execution_count": 8,
   "metadata": {
    "collapsed": false
   },
   "outputs": [
    {
     "name": "stdout",
     "output_type": "stream",
     "text": [
      "('strategy_id', 'product_type', 'symbol')      current_position    start_position    net_quantity    buy_quantity    sell_quantity    buy_avg_price    sell_avg_price    buy_pnl    sell_pnl    trade_pnl    position_pnl    gross_pnl    commission    net_pnl    prior_close_price    current_price\n",
      "-------------------------------------------  ------------------  ----------------  --------------  --------------  ---------------  ---------------  ----------------  ---------  ----------  -----------  --------------  -----------  ------------  ---------  -------------------  ---------------\n",
      "('strat-id', 'stock', 'test.sym.10')                       -200                 0            -200               0              200                0              55.5          0        1198         1198            -476          722            -2        720                49.51            51.89\n",
      "('strategy-id', 'stock', 'test.sym.9')                      200                 0             200             200                0               75               0        -1404          -0        -1404            -608        -2012            -1      -2013                67.98            64.94\n"
     ]
    }
   ],
   "source": [
    "# update the market data manager\n",
    "mdm.bartime = '2010-01-05 13:05:00'\n",
    "mdm.update('stock', '1min')\n",
    "\n",
    "# Update and run the pnl calculations\n",
    "pm.update_pnl()\n",
    "pm.positions_df.show()"
   ]
  },
  {
   "cell_type": "markdown",
   "metadata": {
    "collapsed": true
   },
   "source": [
    "Get Value\n",
    "---------\n",
    "Use the get_value() method to extract a single cells value from the PositionManager"
   ]
  },
  {
   "cell_type": "code",
   "execution_count": 9,
   "metadata": {
    "collapsed": false
   },
   "outputs": [
    {
     "data": {
      "text/plain": [
       "200"
      ]
     },
     "execution_count": 9,
     "metadata": {},
     "output_type": "execute_result"
    }
   ],
   "source": [
    "pm.get_value('strategy-id', 'stock', 'test.sym.9', 'current_position')"
   ]
  },
  {
   "cell_type": "code",
   "execution_count": null,
   "metadata": {
    "collapsed": true
   },
   "outputs": [],
   "source": []
  }
 ],
 "metadata": {
  "kernelspec": {
   "display_name": "Python 3",
   "language": "python",
   "name": "python3"
  },
  "language_info": {
   "codemirror_mode": {
    "name": "ipython",
    "version": 3
   },
   "file_extension": ".py",
   "mimetype": "text/x-python",
   "name": "python",
   "nbconvert_exporter": "python",
   "pygments_lexer": "ipython3",
   "version": "3.6.0"
  }
 },
 "nbformat": 4,
 "nbformat_minor": 0
}
