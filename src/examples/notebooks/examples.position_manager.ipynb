{
 "cells": [
  {
   "cell_type": "markdown",
   "metadata": {},
   "source": [
    "Position Manager\n",
    "================\n",
    "The PositionManager is the trade repository for completed trades (which can include canceled or other reasons than filled). It\n",
    "maintains current positions, trade blotter, PnL and is the entry point for metrics calculation."
   ]
  },
  {
   "cell_type": "code",
   "execution_count": 1,
   "metadata": {
    "collapsed": false
   },
   "source": [
    "# Import packages and initialize the PositionManager\n",
    "\n",
    "import puma as tw\n",
    "import pandas as pd\n",
    "\n",
    "import database.symbol as symboldb\n",
    "import data as datalib\n",
    "from tomahawk import position_manager, OrderManager\n",
    "\n",
    "oms = OrderManager('test_unit', None)\n",
    "pm = position_manager.PositionManager('test_unit', oms, None)"
   ],
   "outputs": []
  },
  {
   "cell_type": "markdown",
   "metadata": {},
   "source": [
    "Trade Entry\n",
    "-----------"
   ]
  },
  {
   "cell_type": "code",
   "execution_count": 2,
   "metadata": {
    "collapsed": false
   },
   "source": [
    "# Enter a trade from the trade details\n",
    "\n",
    "pm.enter_trade('orig-id', 'strategy-id', pd.Timestamp('2010-01-05 13:04:00', tz='America/New_York'), 'stock', 'test.sym.9', 'buy', 100, 50)\n",
    "\n",
    "# View the positions DataFrame\n",
    "\n",
    "print(pm.positions_df)"
   ],
   "outputs": []
  },
  {
   "cell_type": "code",
   "execution_count": 3,
   "metadata": {
    "collapsed": false
   },
   "source": [
    "# Enter a trade from Order object and view the positions DataFrame\n",
    "\n",
    "order = tw.Order('o01', 'orig-id', '123-456', 'strategy-id', 'stock', 'test.sym.9', 'buy', 100, 'LIMIT', price=100)\n",
    "order.state = 'FILLED'\n",
    "order.add_fill(1001, pd.Timestamp('2016-08-01 12:13:14', tz='America/New_York'), pd.Timestamp('2016-01-01 09:30:00', tz='America/New_York'), 100, 100, -1.0)\n",
    "pm.enter_trade_from_order(order)\n",
    "\n",
    "pm.positions_df.show()"
   ],
   "outputs": []
  },
  {
   "cell_type": "markdown",
   "metadata": {},
   "source": [
    "Order Entry from OrderManager\n",
    "-----------------------------"
   ]
  },
  {
   "cell_type": "code",
   "execution_count": 4,
   "metadata": {
    "collapsed": false
   },
   "source": [
    "# create a new order and insert into OrderManager\n",
    "order = tw.Order('123-456', 'manual_id', '002', 'strat-id', 'stock', 'test.sym.10', 'sell', 200, 'LIMIT', price=55.5)\n",
    "oms.new_order(order)"
   ],
   "outputs": []
  },
  {
   "cell_type": "code",
   "execution_count": 5,
   "metadata": {
    "collapsed": false
   },
   "source": [
    "# change state to FILLED\n",
    "order.add_fill(1002, pd.Timestamp('2016-08-01 12:13:14', tz='America/New_York'), pd.Timestamp('2016-01-01 09:30:00', tz='America/New_York'), 200, 55.5, -2.0)\n",
    "oms.change_state(order, 'FILLED')\n",
    "oms.set_booked(order, False)\n",
    "oms.closed_orders_df().show()\n",
    "\n",
    "# Note that the booked state is False"
   ],
   "outputs": []
  },
  {
   "cell_type": "code",
   "execution_count": 6,
   "metadata": {
    "collapsed": false
   },
   "source": [
    "# Use PositionManager to book the trade\n",
    "pm.book_fills()\n",
    "\n",
    "print(pm.positions_df)"
   ],
   "outputs": []
  },
  {
   "cell_type": "markdown",
   "metadata": {
    "collapsed": true
   },
   "source": [
    "PnL Calculations\n",
    "----------------"
   ]
  },
  {
   "cell_type": "code",
   "execution_count": 7,
   "metadata": {
    "collapsed": false
   },
   "source": [
    "# A MarketDataManager must be setup and attached\n",
    "db_credentials = credentials('test', 'localhost', 'db_')\n",
    "seng = symboldb.symbol_engine('stock', **credentials('test', 'localhost'))\n",
    "datafeed = datalib.SymbolDBDataFeed({'stock': seng}, source='test_source_02')\n",
    "lmds = datalib.LiveDataManager(datafeed, **db_credentials)\n",
    "hmds = datalib.LiveDataManager(datafeed, **db_credentials)\n",
    "mdm = datalib.MarketDataManager(hmds, lmds)\n",
    "\n",
    "pm.setup_market_data(mdm)"
   ],
   "outputs": []
  },
  {
   "cell_type": "code",
   "execution_count": 8,
   "metadata": {
    "collapsed": false
   },
   "source": [
    "# update the market data manager\n",
    "mdm.bartime = '2010-01-05 13:05:00'\n",
    "mdm.update('stock', '1min')\n",
    "\n",
    "# Update and run the pnl calculations\n",
    "pm.update_pnl()\n",
    "pm.positions_df.show()"
   ],
   "outputs": []
  },
  {
   "cell_type": "markdown",
   "metadata": {
    "collapsed": true
   },
   "source": [
    "Get Value\n",
    "---------\n",
    "Use the get_value() method to extract a single cells value from the PositionManager"
   ]
  },
  {
   "cell_type": "code",
   "execution_count": 9,
   "metadata": {
    "collapsed": false
   },
   "source": [
    "pm.get_value('strategy-id', 'stock', 'test.sym.9', 'current_position')"
   ],
   "outputs": []
  },
  {
   "cell_type": "code",
   "execution_count": null,
   "metadata": {
    "collapsed": true
   },
   "source": [],
   "outputs": []
  }
 ],
 "metadata": {
  "kernelspec": {
   "display_name": "Python 3",
   "language": "python",
   "name": "python3"
  },
  "language_info": {
   "codemirror_mode": {
    "name": "ipython",
    "version": 3
   },
   "file_extension": ".py",
   "mimetype": "text/x-python",
   "name": "python",
   "nbconvert_exporter": "python",
   "pygments_lexer": "ipython3",
   "version": "3.6.0"
  }
 },
 "nbformat": 4,
 "nbformat_minor": 0
}
